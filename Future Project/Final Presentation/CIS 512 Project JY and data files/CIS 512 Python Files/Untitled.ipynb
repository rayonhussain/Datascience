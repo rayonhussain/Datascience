{
 "cells": [
  {
   "cell_type": "code",
   "execution_count": 1,
   "id": "6135d8d1",
   "metadata": {},
   "outputs": [],
   "source": [
    "import warnings\n",
    "warnings.filterwarnings('ignore')\n",
    "#importing the libraries\n",
    "import numpy as np\n",
    "import pandas as pd\n",
    "import matplotlib.pyplot as plt\n",
    "import seaborn as sns\n",
    "from tqdm import tqdm"
   ]
  },
  {
   "cell_type": "code",
   "execution_count": 2,
   "id": "01b2058d",
   "metadata": {},
   "outputs": [],
   "source": [
    "house=pd.read_csv('cleaneddata.csv')"
   ]
  },
  {
   "cell_type": "code",
   "execution_count": 3,
   "id": "879eee19",
   "metadata": {},
   "outputs": [],
   "source": [
    "house.to_excel(\"historicalcleaned.xlsx\",sheet_name='cleaned')"
   ]
  },
  {
   "cell_type": "code",
   "execution_count": 4,
   "id": "9b471a2b",
   "metadata": {},
   "outputs": [],
   "source": [
    "import warnings\n",
    "warnings.filterwarnings('ignore')\n",
    "#importing the libraries\n",
    "import numpy as np\n",
    "import pandas as pd\n",
    "import matplotlib.pyplot as plt\n",
    "import seaborn as sns\n",
    "from tqdm import tqdm"
   ]
  },
  {
   "cell_type": "code",
   "execution_count": 5,
   "id": "e64027db",
   "metadata": {},
   "outputs": [],
   "source": [
    "house=pd.read_csv('cleaneddata.csv')"
   ]
  },
  {
   "cell_type": "code",
   "execution_count": 6,
   "id": "f4dbb52e",
   "metadata": {},
   "outputs": [],
   "source": [
    "house.to_excel(\"historicalcleaned.xlsx\",sheet_name='cleaned')"
   ]
  },
  {
   "cell_type": "code",
   "execution_count": 1,
   "id": "69e581dd",
   "metadata": {},
   "outputs": [],
   "source": [
    "import warnings\n",
    "warnings.filterwarnings('ignore')\n",
    "#importing the libraries\n",
    "import numpy as np\n",
    "import pandas as pd\n",
    "import matplotlib.pyplot as plt\n",
    "import seaborn as sns\n",
    "from tqdm import tqdm"
   ]
  },
  {
   "cell_type": "code",
   "execution_count": 2,
   "id": "ffde6b10",
   "metadata": {},
   "outputs": [],
   "source": [
    "house=pd.read_csv('futurecleaned.csv')"
   ]
  },
  {
   "cell_type": "code",
   "execution_count": 3,
   "id": "5b585d6a",
   "metadata": {},
   "outputs": [],
   "source": [
    "house.drop(['Id'],axis=1,inplace=True)\n",
    "house.drop(['MSSubClass'],axis=1,inplace=True)\n",
    "house.drop(['Heating'],axis=1,inplace=True)\n",
    "house.drop(['Functional'],axis=1,inplace=True)\n",
    "house.drop(['RoofMatl'],axis=1,inplace=True)\n",
    "house.drop(['MiscFeature'],axis=1,inplace=True)"
   ]
  },
  {
   "cell_type": "code",
   "execution_count": 4,
   "id": "8be109b6",
   "metadata": {},
   "outputs": [],
   "source": [
    "house.to_csv('futurecleaned_1.csv')"
   ]
  },
  {
   "cell_type": "code",
   "execution_count": null,
   "id": "46105556",
   "metadata": {},
   "outputs": [],
   "source": []
  }
 ],
 "metadata": {
  "kernelspec": {
   "display_name": "Python 3 (ipykernel)",
   "language": "python",
   "name": "python3"
  },
  "language_info": {
   "codemirror_mode": {
    "name": "ipython",
    "version": 3
   },
   "file_extension": ".py",
   "mimetype": "text/x-python",
   "name": "python",
   "nbconvert_exporter": "python",
   "pygments_lexer": "ipython3",
   "version": "3.9.13"
  }
 },
 "nbformat": 4,
 "nbformat_minor": 5
}
