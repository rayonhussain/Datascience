{
 "cells": [
  {
   "cell_type": "code",
   "execution_count": 183,
   "id": "47bbdafc",
   "metadata": {},
   "outputs": [],
   "source": [
    "import warnings\n",
    "warnings.filterwarnings('ignore')\n",
    "#importing the libraries\n",
    "import numpy as np\n",
    "import pandas as pd\n",
    "import matplotlib.pyplot as plt\n",
    "import seaborn as sns\n",
    "from tqdm import tqdm"
   ]
  },
  {
   "cell_type": "code",
   "execution_count": 184,
   "id": "66b4b2e5",
   "metadata": {},
   "outputs": [],
   "source": [
    "house=pd.read_csv('Future Data.csv')"
   ]
  },
  {
   "cell_type": "code",
   "execution_count": 185,
   "id": "9b626931",
   "metadata": {},
   "outputs": [
    {
     "data": {
      "text/plain": [
       "(1459, 80)"
      ]
     },
     "execution_count": 185,
     "metadata": {},
     "output_type": "execute_result"
    }
   ],
   "source": [
    "house.shape"
   ]
  },
  {
   "cell_type": "code",
   "execution_count": 186,
   "id": "d02df7ee",
   "metadata": {},
   "outputs": [
    {
     "data": {
      "text/html": [
       "<div>\n",
       "<style scoped>\n",
       "    .dataframe tbody tr th:only-of-type {\n",
       "        vertical-align: middle;\n",
       "    }\n",
       "\n",
       "    .dataframe tbody tr th {\n",
       "        vertical-align: top;\n",
       "    }\n",
       "\n",
       "    .dataframe thead th {\n",
       "        text-align: right;\n",
       "    }\n",
       "</style>\n",
       "<table border=\"1\" class=\"dataframe\">\n",
       "  <thead>\n",
       "    <tr style=\"text-align: right;\">\n",
       "      <th></th>\n",
       "      <th>Id</th>\n",
       "      <th>MSSubClass</th>\n",
       "      <th>LotFrontage</th>\n",
       "      <th>LotArea</th>\n",
       "      <th>OverallQual</th>\n",
       "      <th>OverallCond</th>\n",
       "      <th>YearBuilt</th>\n",
       "      <th>YearRemodAdd</th>\n",
       "      <th>MasVnrArea</th>\n",
       "      <th>BsmtFinSF1</th>\n",
       "      <th>...</th>\n",
       "      <th>GarageArea</th>\n",
       "      <th>WoodDeckSF</th>\n",
       "      <th>OpenPorchSF</th>\n",
       "      <th>EnclosedPorch</th>\n",
       "      <th>3SsnPorch</th>\n",
       "      <th>ScreenPorch</th>\n",
       "      <th>PoolArea</th>\n",
       "      <th>MiscVal</th>\n",
       "      <th>MoSold</th>\n",
       "      <th>YrSold</th>\n",
       "    </tr>\n",
       "  </thead>\n",
       "  <tbody>\n",
       "    <tr>\n",
       "      <th>count</th>\n",
       "      <td>1459.000000</td>\n",
       "      <td>1459.000000</td>\n",
       "      <td>1232.000000</td>\n",
       "      <td>1459.000000</td>\n",
       "      <td>1459.000000</td>\n",
       "      <td>1459.000000</td>\n",
       "      <td>1459.000000</td>\n",
       "      <td>1459.000000</td>\n",
       "      <td>1444.000000</td>\n",
       "      <td>1458.000000</td>\n",
       "      <td>...</td>\n",
       "      <td>1458.000000</td>\n",
       "      <td>1459.000000</td>\n",
       "      <td>1459.000000</td>\n",
       "      <td>1459.000000</td>\n",
       "      <td>1459.000000</td>\n",
       "      <td>1459.000000</td>\n",
       "      <td>1459.000000</td>\n",
       "      <td>1459.000000</td>\n",
       "      <td>1459.000000</td>\n",
       "      <td>1459.000000</td>\n",
       "    </tr>\n",
       "    <tr>\n",
       "      <th>mean</th>\n",
       "      <td>2190.000000</td>\n",
       "      <td>57.378341</td>\n",
       "      <td>68.580357</td>\n",
       "      <td>9819.161069</td>\n",
       "      <td>6.078821</td>\n",
       "      <td>5.553804</td>\n",
       "      <td>1971.357779</td>\n",
       "      <td>1983.662783</td>\n",
       "      <td>100.709141</td>\n",
       "      <td>439.203704</td>\n",
       "      <td>...</td>\n",
       "      <td>472.768861</td>\n",
       "      <td>93.174777</td>\n",
       "      <td>48.313914</td>\n",
       "      <td>24.243317</td>\n",
       "      <td>1.794380</td>\n",
       "      <td>17.064428</td>\n",
       "      <td>1.744345</td>\n",
       "      <td>58.167923</td>\n",
       "      <td>6.104181</td>\n",
       "      <td>2007.769705</td>\n",
       "    </tr>\n",
       "    <tr>\n",
       "      <th>std</th>\n",
       "      <td>421.321334</td>\n",
       "      <td>42.746880</td>\n",
       "      <td>22.376841</td>\n",
       "      <td>4955.517327</td>\n",
       "      <td>1.436812</td>\n",
       "      <td>1.113740</td>\n",
       "      <td>30.390071</td>\n",
       "      <td>21.130467</td>\n",
       "      <td>177.625900</td>\n",
       "      <td>455.268042</td>\n",
       "      <td>...</td>\n",
       "      <td>217.048611</td>\n",
       "      <td>127.744882</td>\n",
       "      <td>68.883364</td>\n",
       "      <td>67.227765</td>\n",
       "      <td>20.207842</td>\n",
       "      <td>56.609763</td>\n",
       "      <td>30.491646</td>\n",
       "      <td>630.806978</td>\n",
       "      <td>2.722432</td>\n",
       "      <td>1.301740</td>\n",
       "    </tr>\n",
       "    <tr>\n",
       "      <th>min</th>\n",
       "      <td>1461.000000</td>\n",
       "      <td>20.000000</td>\n",
       "      <td>21.000000</td>\n",
       "      <td>1470.000000</td>\n",
       "      <td>1.000000</td>\n",
       "      <td>1.000000</td>\n",
       "      <td>1879.000000</td>\n",
       "      <td>1950.000000</td>\n",
       "      <td>0.000000</td>\n",
       "      <td>0.000000</td>\n",
       "      <td>...</td>\n",
       "      <td>0.000000</td>\n",
       "      <td>0.000000</td>\n",
       "      <td>0.000000</td>\n",
       "      <td>0.000000</td>\n",
       "      <td>0.000000</td>\n",
       "      <td>0.000000</td>\n",
       "      <td>0.000000</td>\n",
       "      <td>0.000000</td>\n",
       "      <td>1.000000</td>\n",
       "      <td>2006.000000</td>\n",
       "    </tr>\n",
       "    <tr>\n",
       "      <th>25%</th>\n",
       "      <td>1825.500000</td>\n",
       "      <td>20.000000</td>\n",
       "      <td>58.000000</td>\n",
       "      <td>7391.000000</td>\n",
       "      <td>5.000000</td>\n",
       "      <td>5.000000</td>\n",
       "      <td>1953.000000</td>\n",
       "      <td>1963.000000</td>\n",
       "      <td>0.000000</td>\n",
       "      <td>0.000000</td>\n",
       "      <td>...</td>\n",
       "      <td>318.000000</td>\n",
       "      <td>0.000000</td>\n",
       "      <td>0.000000</td>\n",
       "      <td>0.000000</td>\n",
       "      <td>0.000000</td>\n",
       "      <td>0.000000</td>\n",
       "      <td>0.000000</td>\n",
       "      <td>0.000000</td>\n",
       "      <td>4.000000</td>\n",
       "      <td>2007.000000</td>\n",
       "    </tr>\n",
       "    <tr>\n",
       "      <th>50%</th>\n",
       "      <td>2190.000000</td>\n",
       "      <td>50.000000</td>\n",
       "      <td>67.000000</td>\n",
       "      <td>9399.000000</td>\n",
       "      <td>6.000000</td>\n",
       "      <td>5.000000</td>\n",
       "      <td>1973.000000</td>\n",
       "      <td>1992.000000</td>\n",
       "      <td>0.000000</td>\n",
       "      <td>350.500000</td>\n",
       "      <td>...</td>\n",
       "      <td>480.000000</td>\n",
       "      <td>0.000000</td>\n",
       "      <td>28.000000</td>\n",
       "      <td>0.000000</td>\n",
       "      <td>0.000000</td>\n",
       "      <td>0.000000</td>\n",
       "      <td>0.000000</td>\n",
       "      <td>0.000000</td>\n",
       "      <td>6.000000</td>\n",
       "      <td>2008.000000</td>\n",
       "    </tr>\n",
       "    <tr>\n",
       "      <th>75%</th>\n",
       "      <td>2554.500000</td>\n",
       "      <td>70.000000</td>\n",
       "      <td>80.000000</td>\n",
       "      <td>11517.500000</td>\n",
       "      <td>7.000000</td>\n",
       "      <td>6.000000</td>\n",
       "      <td>2001.000000</td>\n",
       "      <td>2004.000000</td>\n",
       "      <td>164.000000</td>\n",
       "      <td>753.500000</td>\n",
       "      <td>...</td>\n",
       "      <td>576.000000</td>\n",
       "      <td>168.000000</td>\n",
       "      <td>72.000000</td>\n",
       "      <td>0.000000</td>\n",
       "      <td>0.000000</td>\n",
       "      <td>0.000000</td>\n",
       "      <td>0.000000</td>\n",
       "      <td>0.000000</td>\n",
       "      <td>8.000000</td>\n",
       "      <td>2009.000000</td>\n",
       "    </tr>\n",
       "    <tr>\n",
       "      <th>max</th>\n",
       "      <td>2919.000000</td>\n",
       "      <td>190.000000</td>\n",
       "      <td>200.000000</td>\n",
       "      <td>56600.000000</td>\n",
       "      <td>10.000000</td>\n",
       "      <td>9.000000</td>\n",
       "      <td>2010.000000</td>\n",
       "      <td>2010.000000</td>\n",
       "      <td>1290.000000</td>\n",
       "      <td>4010.000000</td>\n",
       "      <td>...</td>\n",
       "      <td>1488.000000</td>\n",
       "      <td>1424.000000</td>\n",
       "      <td>742.000000</td>\n",
       "      <td>1012.000000</td>\n",
       "      <td>360.000000</td>\n",
       "      <td>576.000000</td>\n",
       "      <td>800.000000</td>\n",
       "      <td>17000.000000</td>\n",
       "      <td>12.000000</td>\n",
       "      <td>2010.000000</td>\n",
       "    </tr>\n",
       "  </tbody>\n",
       "</table>\n",
       "<p>8 rows × 37 columns</p>\n",
       "</div>"
      ],
      "text/plain": [
       "                Id   MSSubClass  LotFrontage       LotArea  OverallQual  \\\n",
       "count  1459.000000  1459.000000  1232.000000   1459.000000  1459.000000   \n",
       "mean   2190.000000    57.378341    68.580357   9819.161069     6.078821   \n",
       "std     421.321334    42.746880    22.376841   4955.517327     1.436812   \n",
       "min    1461.000000    20.000000    21.000000   1470.000000     1.000000   \n",
       "25%    1825.500000    20.000000    58.000000   7391.000000     5.000000   \n",
       "50%    2190.000000    50.000000    67.000000   9399.000000     6.000000   \n",
       "75%    2554.500000    70.000000    80.000000  11517.500000     7.000000   \n",
       "max    2919.000000   190.000000   200.000000  56600.000000    10.000000   \n",
       "\n",
       "       OverallCond    YearBuilt  YearRemodAdd   MasVnrArea   BsmtFinSF1  ...  \\\n",
       "count  1459.000000  1459.000000   1459.000000  1444.000000  1458.000000  ...   \n",
       "mean      5.553804  1971.357779   1983.662783   100.709141   439.203704  ...   \n",
       "std       1.113740    30.390071     21.130467   177.625900   455.268042  ...   \n",
       "min       1.000000  1879.000000   1950.000000     0.000000     0.000000  ...   \n",
       "25%       5.000000  1953.000000   1963.000000     0.000000     0.000000  ...   \n",
       "50%       5.000000  1973.000000   1992.000000     0.000000   350.500000  ...   \n",
       "75%       6.000000  2001.000000   2004.000000   164.000000   753.500000  ...   \n",
       "max       9.000000  2010.000000   2010.000000  1290.000000  4010.000000  ...   \n",
       "\n",
       "        GarageArea   WoodDeckSF  OpenPorchSF  EnclosedPorch    3SsnPorch  \\\n",
       "count  1458.000000  1459.000000  1459.000000    1459.000000  1459.000000   \n",
       "mean    472.768861    93.174777    48.313914      24.243317     1.794380   \n",
       "std     217.048611   127.744882    68.883364      67.227765    20.207842   \n",
       "min       0.000000     0.000000     0.000000       0.000000     0.000000   \n",
       "25%     318.000000     0.000000     0.000000       0.000000     0.000000   \n",
       "50%     480.000000     0.000000    28.000000       0.000000     0.000000   \n",
       "75%     576.000000   168.000000    72.000000       0.000000     0.000000   \n",
       "max    1488.000000  1424.000000   742.000000    1012.000000   360.000000   \n",
       "\n",
       "       ScreenPorch     PoolArea       MiscVal       MoSold       YrSold  \n",
       "count  1459.000000  1459.000000   1459.000000  1459.000000  1459.000000  \n",
       "mean     17.064428     1.744345     58.167923     6.104181  2007.769705  \n",
       "std      56.609763    30.491646    630.806978     2.722432     1.301740  \n",
       "min       0.000000     0.000000      0.000000     1.000000  2006.000000  \n",
       "25%       0.000000     0.000000      0.000000     4.000000  2007.000000  \n",
       "50%       0.000000     0.000000      0.000000     6.000000  2008.000000  \n",
       "75%       0.000000     0.000000      0.000000     8.000000  2009.000000  \n",
       "max     576.000000   800.000000  17000.000000    12.000000  2010.000000  \n",
       "\n",
       "[8 rows x 37 columns]"
      ]
     },
     "execution_count": 186,
     "metadata": {},
     "output_type": "execute_result"
    }
   ],
   "source": [
    "house.describe()"
   ]
  },
  {
   "cell_type": "code",
   "execution_count": 187,
   "id": "1a0d9068",
   "metadata": {},
   "outputs": [
    {
     "name": "stdout",
     "output_type": "stream",
     "text": [
      "<class 'pandas.core.frame.DataFrame'>\n",
      "RangeIndex: 1459 entries, 0 to 1458\n",
      "Data columns (total 80 columns):\n",
      " #   Column         Non-Null Count  Dtype  \n",
      "---  ------         --------------  -----  \n",
      " 0   Id             1459 non-null   int64  \n",
      " 1   MSSubClass     1459 non-null   int64  \n",
      " 2   MSZoning       1455 non-null   object \n",
      " 3   LotFrontage    1232 non-null   float64\n",
      " 4   LotArea        1459 non-null   int64  \n",
      " 5   Street         1459 non-null   object \n",
      " 6   Alley          107 non-null    object \n",
      " 7   LotShape       1459 non-null   object \n",
      " 8   LandContour    1459 non-null   object \n",
      " 9   Utilities      1457 non-null   object \n",
      " 10  LotConfig      1459 non-null   object \n",
      " 11  LandSlope      1459 non-null   object \n",
      " 12  Neighborhood   1459 non-null   object \n",
      " 13  Condition1     1459 non-null   object \n",
      " 14  Condition2     1459 non-null   object \n",
      " 15  BldgType       1459 non-null   object \n",
      " 16  HouseStyle     1459 non-null   object \n",
      " 17  OverallQual    1459 non-null   int64  \n",
      " 18  OverallCond    1459 non-null   int64  \n",
      " 19  YearBuilt      1459 non-null   int64  \n",
      " 20  YearRemodAdd   1459 non-null   int64  \n",
      " 21  RoofStyle      1459 non-null   object \n",
      " 22  RoofMatl       1459 non-null   object \n",
      " 23  Exterior1st    1458 non-null   object \n",
      " 24  Exterior2nd    1458 non-null   object \n",
      " 25  MasVnrType     1443 non-null   object \n",
      " 26  MasVnrArea     1444 non-null   float64\n",
      " 27  ExterQual      1459 non-null   object \n",
      " 28  ExterCond      1459 non-null   object \n",
      " 29  Foundation     1459 non-null   object \n",
      " 30  BsmtQual       1415 non-null   object \n",
      " 31  BsmtCond       1414 non-null   object \n",
      " 32  BsmtExposure   1415 non-null   object \n",
      " 33  BsmtFinType1   1417 non-null   object \n",
      " 34  BsmtFinSF1     1458 non-null   float64\n",
      " 35  BsmtFinType2   1417 non-null   object \n",
      " 36  BsmtFinSF2     1458 non-null   float64\n",
      " 37  BsmtUnfSF      1458 non-null   float64\n",
      " 38  TotalBsmtSF    1458 non-null   float64\n",
      " 39  Heating        1459 non-null   object \n",
      " 40  HeatingQC      1459 non-null   object \n",
      " 41  CentralAir     1459 non-null   object \n",
      " 42  Electrical     1459 non-null   object \n",
      " 43  1stFlrSF       1459 non-null   int64  \n",
      " 44  2ndFlrSF       1459 non-null   int64  \n",
      " 45  LowQualFinSF   1459 non-null   int64  \n",
      " 46  GrLivArea      1459 non-null   int64  \n",
      " 47  BsmtFullBath   1457 non-null   float64\n",
      " 48  BsmtHalfBath   1457 non-null   float64\n",
      " 49  FullBath       1459 non-null   int64  \n",
      " 50  HalfBath       1459 non-null   int64  \n",
      " 51  BedroomAbvGr   1459 non-null   int64  \n",
      " 52  KitchenAbvGr   1459 non-null   int64  \n",
      " 53  KitchenQual    1458 non-null   object \n",
      " 54  TotRmsAbvGrd   1459 non-null   int64  \n",
      " 55  Functional     1457 non-null   object \n",
      " 56  Fireplaces     1459 non-null   int64  \n",
      " 57  FireplaceQu    729 non-null    object \n",
      " 58  GarageType     1383 non-null   object \n",
      " 59  GarageYrBlt    1381 non-null   float64\n",
      " 60  GarageFinish   1381 non-null   object \n",
      " 61  GarageCars     1458 non-null   float64\n",
      " 62  GarageArea     1458 non-null   float64\n",
      " 63  GarageQual     1381 non-null   object \n",
      " 64  GarageCond     1381 non-null   object \n",
      " 65  PavedDrive     1459 non-null   object \n",
      " 66  WoodDeckSF     1459 non-null   int64  \n",
      " 67  OpenPorchSF    1459 non-null   int64  \n",
      " 68  EnclosedPorch  1459 non-null   int64  \n",
      " 69  3SsnPorch      1459 non-null   int64  \n",
      " 70  ScreenPorch    1459 non-null   int64  \n",
      " 71  PoolArea       1459 non-null   int64  \n",
      " 72  PoolQC         3 non-null      object \n",
      " 73  Fence          290 non-null    object \n",
      " 74  MiscFeature    51 non-null     object \n",
      " 75  MiscVal        1459 non-null   int64  \n",
      " 76  MoSold         1459 non-null   int64  \n",
      " 77  YrSold         1459 non-null   int64  \n",
      " 78  SaleType       1458 non-null   object \n",
      " 79  SaleCondition  1459 non-null   object \n",
      "dtypes: float64(11), int64(26), object(43)\n",
      "memory usage: 912.0+ KB\n"
     ]
    }
   ],
   "source": [
    "house.info()"
   ]
  },
  {
   "cell_type": "code",
   "execution_count": 188,
   "id": "c85ee7d2",
   "metadata": {},
   "outputs": [
    {
     "data": {
      "text/plain": [
       "['Id',\n",
       " 'MSSubClass',\n",
       " 'MSZoning',\n",
       " 'LotFrontage',\n",
       " 'LotArea',\n",
       " 'Street',\n",
       " 'Alley',\n",
       " 'LotShape',\n",
       " 'LandContour',\n",
       " 'Utilities',\n",
       " 'LotConfig',\n",
       " 'LandSlope',\n",
       " 'Neighborhood',\n",
       " 'Condition1',\n",
       " 'Condition2',\n",
       " 'BldgType',\n",
       " 'HouseStyle',\n",
       " 'OverallQual',\n",
       " 'OverallCond',\n",
       " 'YearBuilt',\n",
       " 'YearRemodAdd',\n",
       " 'RoofStyle',\n",
       " 'RoofMatl',\n",
       " 'Exterior1st',\n",
       " 'Exterior2nd',\n",
       " 'MasVnrType',\n",
       " 'MasVnrArea',\n",
       " 'ExterQual',\n",
       " 'ExterCond',\n",
       " 'Foundation',\n",
       " 'BsmtQual',\n",
       " 'BsmtCond',\n",
       " 'BsmtExposure',\n",
       " 'BsmtFinType1',\n",
       " 'BsmtFinSF1',\n",
       " 'BsmtFinType2',\n",
       " 'BsmtFinSF2',\n",
       " 'BsmtUnfSF',\n",
       " 'TotalBsmtSF',\n",
       " 'Heating',\n",
       " 'HeatingQC',\n",
       " 'CentralAir',\n",
       " 'Electrical',\n",
       " '1stFlrSF',\n",
       " '2ndFlrSF',\n",
       " 'LowQualFinSF',\n",
       " 'GrLivArea',\n",
       " 'BsmtFullBath',\n",
       " 'BsmtHalfBath',\n",
       " 'FullBath',\n",
       " 'HalfBath',\n",
       " 'BedroomAbvGr',\n",
       " 'KitchenAbvGr',\n",
       " 'KitchenQual',\n",
       " 'TotRmsAbvGrd',\n",
       " 'Functional',\n",
       " 'Fireplaces',\n",
       " 'FireplaceQu',\n",
       " 'GarageType',\n",
       " 'GarageYrBlt',\n",
       " 'GarageFinish',\n",
       " 'GarageCars',\n",
       " 'GarageArea',\n",
       " 'GarageQual',\n",
       " 'GarageCond',\n",
       " 'PavedDrive',\n",
       " 'WoodDeckSF',\n",
       " 'OpenPorchSF',\n",
       " 'EnclosedPorch',\n",
       " '3SsnPorch',\n",
       " 'ScreenPorch',\n",
       " 'PoolArea',\n",
       " 'PoolQC',\n",
       " 'Fence',\n",
       " 'MiscFeature',\n",
       " 'MiscVal',\n",
       " 'MoSold',\n",
       " 'YrSold',\n",
       " 'SaleType',\n",
       " 'SaleCondition']"
      ]
     },
     "execution_count": 188,
     "metadata": {},
     "output_type": "execute_result"
    }
   ],
   "source": [
    "list(house.columns)"
   ]
  },
  {
   "cell_type": "code",
   "execution_count": 189,
   "id": "0ae7b12c",
   "metadata": {},
   "outputs": [
    {
     "data": {
      "text/html": [
       "<div>\n",
       "<style scoped>\n",
       "    .dataframe tbody tr th:only-of-type {\n",
       "        vertical-align: middle;\n",
       "    }\n",
       "\n",
       "    .dataframe tbody tr th {\n",
       "        vertical-align: top;\n",
       "    }\n",
       "\n",
       "    .dataframe thead th {\n",
       "        text-align: right;\n",
       "    }\n",
       "</style>\n",
       "<table border=\"1\" class=\"dataframe\">\n",
       "  <thead>\n",
       "    <tr style=\"text-align: right;\">\n",
       "      <th></th>\n",
       "      <th>count</th>\n",
       "      <th>unique</th>\n",
       "      <th>top</th>\n",
       "      <th>freq</th>\n",
       "    </tr>\n",
       "  </thead>\n",
       "  <tbody>\n",
       "    <tr>\n",
       "      <th>MSZoning</th>\n",
       "      <td>1455</td>\n",
       "      <td>5</td>\n",
       "      <td>RL</td>\n",
       "      <td>1114</td>\n",
       "    </tr>\n",
       "    <tr>\n",
       "      <th>Street</th>\n",
       "      <td>1459</td>\n",
       "      <td>2</td>\n",
       "      <td>Pave</td>\n",
       "      <td>1453</td>\n",
       "    </tr>\n",
       "    <tr>\n",
       "      <th>Alley</th>\n",
       "      <td>107</td>\n",
       "      <td>2</td>\n",
       "      <td>Grvl</td>\n",
       "      <td>70</td>\n",
       "    </tr>\n",
       "    <tr>\n",
       "      <th>LotShape</th>\n",
       "      <td>1459</td>\n",
       "      <td>4</td>\n",
       "      <td>Reg</td>\n",
       "      <td>934</td>\n",
       "    </tr>\n",
       "    <tr>\n",
       "      <th>LandContour</th>\n",
       "      <td>1459</td>\n",
       "      <td>4</td>\n",
       "      <td>Lvl</td>\n",
       "      <td>1311</td>\n",
       "    </tr>\n",
       "    <tr>\n",
       "      <th>Utilities</th>\n",
       "      <td>1457</td>\n",
       "      <td>1</td>\n",
       "      <td>AllPub</td>\n",
       "      <td>1457</td>\n",
       "    </tr>\n",
       "    <tr>\n",
       "      <th>LotConfig</th>\n",
       "      <td>1459</td>\n",
       "      <td>5</td>\n",
       "      <td>Inside</td>\n",
       "      <td>1081</td>\n",
       "    </tr>\n",
       "    <tr>\n",
       "      <th>LandSlope</th>\n",
       "      <td>1459</td>\n",
       "      <td>3</td>\n",
       "      <td>Gtl</td>\n",
       "      <td>1396</td>\n",
       "    </tr>\n",
       "    <tr>\n",
       "      <th>Neighborhood</th>\n",
       "      <td>1459</td>\n",
       "      <td>25</td>\n",
       "      <td>NAmes</td>\n",
       "      <td>218</td>\n",
       "    </tr>\n",
       "    <tr>\n",
       "      <th>Condition1</th>\n",
       "      <td>1459</td>\n",
       "      <td>9</td>\n",
       "      <td>Norm</td>\n",
       "      <td>1251</td>\n",
       "    </tr>\n",
       "    <tr>\n",
       "      <th>Condition2</th>\n",
       "      <td>1459</td>\n",
       "      <td>5</td>\n",
       "      <td>Norm</td>\n",
       "      <td>1444</td>\n",
       "    </tr>\n",
       "    <tr>\n",
       "      <th>BldgType</th>\n",
       "      <td>1459</td>\n",
       "      <td>5</td>\n",
       "      <td>1Fam</td>\n",
       "      <td>1205</td>\n",
       "    </tr>\n",
       "    <tr>\n",
       "      <th>HouseStyle</th>\n",
       "      <td>1459</td>\n",
       "      <td>7</td>\n",
       "      <td>1Story</td>\n",
       "      <td>745</td>\n",
       "    </tr>\n",
       "    <tr>\n",
       "      <th>RoofStyle</th>\n",
       "      <td>1459</td>\n",
       "      <td>6</td>\n",
       "      <td>Gable</td>\n",
       "      <td>1169</td>\n",
       "    </tr>\n",
       "    <tr>\n",
       "      <th>RoofMatl</th>\n",
       "      <td>1459</td>\n",
       "      <td>4</td>\n",
       "      <td>CompShg</td>\n",
       "      <td>1442</td>\n",
       "    </tr>\n",
       "    <tr>\n",
       "      <th>Exterior1st</th>\n",
       "      <td>1458</td>\n",
       "      <td>13</td>\n",
       "      <td>VinylSd</td>\n",
       "      <td>510</td>\n",
       "    </tr>\n",
       "    <tr>\n",
       "      <th>Exterior2nd</th>\n",
       "      <td>1458</td>\n",
       "      <td>15</td>\n",
       "      <td>VinylSd</td>\n",
       "      <td>510</td>\n",
       "    </tr>\n",
       "    <tr>\n",
       "      <th>MasVnrType</th>\n",
       "      <td>1443</td>\n",
       "      <td>4</td>\n",
       "      <td>None</td>\n",
       "      <td>878</td>\n",
       "    </tr>\n",
       "    <tr>\n",
       "      <th>ExterQual</th>\n",
       "      <td>1459</td>\n",
       "      <td>4</td>\n",
       "      <td>TA</td>\n",
       "      <td>892</td>\n",
       "    </tr>\n",
       "    <tr>\n",
       "      <th>ExterCond</th>\n",
       "      <td>1459</td>\n",
       "      <td>5</td>\n",
       "      <td>TA</td>\n",
       "      <td>1256</td>\n",
       "    </tr>\n",
       "    <tr>\n",
       "      <th>Foundation</th>\n",
       "      <td>1459</td>\n",
       "      <td>6</td>\n",
       "      <td>PConc</td>\n",
       "      <td>661</td>\n",
       "    </tr>\n",
       "    <tr>\n",
       "      <th>BsmtQual</th>\n",
       "      <td>1415</td>\n",
       "      <td>4</td>\n",
       "      <td>TA</td>\n",
       "      <td>634</td>\n",
       "    </tr>\n",
       "    <tr>\n",
       "      <th>BsmtCond</th>\n",
       "      <td>1414</td>\n",
       "      <td>4</td>\n",
       "      <td>TA</td>\n",
       "      <td>1295</td>\n",
       "    </tr>\n",
       "    <tr>\n",
       "      <th>BsmtExposure</th>\n",
       "      <td>1415</td>\n",
       "      <td>4</td>\n",
       "      <td>No</td>\n",
       "      <td>951</td>\n",
       "    </tr>\n",
       "    <tr>\n",
       "      <th>BsmtFinType1</th>\n",
       "      <td>1417</td>\n",
       "      <td>6</td>\n",
       "      <td>GLQ</td>\n",
       "      <td>431</td>\n",
       "    </tr>\n",
       "    <tr>\n",
       "      <th>BsmtFinType2</th>\n",
       "      <td>1417</td>\n",
       "      <td>6</td>\n",
       "      <td>Unf</td>\n",
       "      <td>1237</td>\n",
       "    </tr>\n",
       "    <tr>\n",
       "      <th>Heating</th>\n",
       "      <td>1459</td>\n",
       "      <td>4</td>\n",
       "      <td>GasA</td>\n",
       "      <td>1446</td>\n",
       "    </tr>\n",
       "    <tr>\n",
       "      <th>HeatingQC</th>\n",
       "      <td>1459</td>\n",
       "      <td>5</td>\n",
       "      <td>Ex</td>\n",
       "      <td>752</td>\n",
       "    </tr>\n",
       "    <tr>\n",
       "      <th>CentralAir</th>\n",
       "      <td>1459</td>\n",
       "      <td>2</td>\n",
       "      <td>Y</td>\n",
       "      <td>1358</td>\n",
       "    </tr>\n",
       "    <tr>\n",
       "      <th>Electrical</th>\n",
       "      <td>1459</td>\n",
       "      <td>4</td>\n",
       "      <td>SBrkr</td>\n",
       "      <td>1337</td>\n",
       "    </tr>\n",
       "    <tr>\n",
       "      <th>KitchenQual</th>\n",
       "      <td>1458</td>\n",
       "      <td>4</td>\n",
       "      <td>TA</td>\n",
       "      <td>757</td>\n",
       "    </tr>\n",
       "    <tr>\n",
       "      <th>Functional</th>\n",
       "      <td>1457</td>\n",
       "      <td>7</td>\n",
       "      <td>Typ</td>\n",
       "      <td>1357</td>\n",
       "    </tr>\n",
       "    <tr>\n",
       "      <th>FireplaceQu</th>\n",
       "      <td>729</td>\n",
       "      <td>5</td>\n",
       "      <td>Gd</td>\n",
       "      <td>364</td>\n",
       "    </tr>\n",
       "    <tr>\n",
       "      <th>GarageType</th>\n",
       "      <td>1383</td>\n",
       "      <td>6</td>\n",
       "      <td>Attchd</td>\n",
       "      <td>853</td>\n",
       "    </tr>\n",
       "    <tr>\n",
       "      <th>GarageFinish</th>\n",
       "      <td>1381</td>\n",
       "      <td>3</td>\n",
       "      <td>Unf</td>\n",
       "      <td>625</td>\n",
       "    </tr>\n",
       "    <tr>\n",
       "      <th>GarageQual</th>\n",
       "      <td>1381</td>\n",
       "      <td>4</td>\n",
       "      <td>TA</td>\n",
       "      <td>1293</td>\n",
       "    </tr>\n",
       "    <tr>\n",
       "      <th>GarageCond</th>\n",
       "      <td>1381</td>\n",
       "      <td>5</td>\n",
       "      <td>TA</td>\n",
       "      <td>1328</td>\n",
       "    </tr>\n",
       "    <tr>\n",
       "      <th>PavedDrive</th>\n",
       "      <td>1459</td>\n",
       "      <td>3</td>\n",
       "      <td>Y</td>\n",
       "      <td>1301</td>\n",
       "    </tr>\n",
       "    <tr>\n",
       "      <th>PoolQC</th>\n",
       "      <td>3</td>\n",
       "      <td>2</td>\n",
       "      <td>Ex</td>\n",
       "      <td>2</td>\n",
       "    </tr>\n",
       "    <tr>\n",
       "      <th>Fence</th>\n",
       "      <td>290</td>\n",
       "      <td>4</td>\n",
       "      <td>MnPrv</td>\n",
       "      <td>172</td>\n",
       "    </tr>\n",
       "    <tr>\n",
       "      <th>MiscFeature</th>\n",
       "      <td>51</td>\n",
       "      <td>3</td>\n",
       "      <td>Shed</td>\n",
       "      <td>46</td>\n",
       "    </tr>\n",
       "    <tr>\n",
       "      <th>SaleType</th>\n",
       "      <td>1458</td>\n",
       "      <td>9</td>\n",
       "      <td>WD</td>\n",
       "      <td>1258</td>\n",
       "    </tr>\n",
       "    <tr>\n",
       "      <th>SaleCondition</th>\n",
       "      <td>1459</td>\n",
       "      <td>6</td>\n",
       "      <td>Normal</td>\n",
       "      <td>1204</td>\n",
       "    </tr>\n",
       "  </tbody>\n",
       "</table>\n",
       "</div>"
      ],
      "text/plain": [
       "              count unique      top  freq\n",
       "MSZoning       1455      5       RL  1114\n",
       "Street         1459      2     Pave  1453\n",
       "Alley           107      2     Grvl    70\n",
       "LotShape       1459      4      Reg   934\n",
       "LandContour    1459      4      Lvl  1311\n",
       "Utilities      1457      1   AllPub  1457\n",
       "LotConfig      1459      5   Inside  1081\n",
       "LandSlope      1459      3      Gtl  1396\n",
       "Neighborhood   1459     25    NAmes   218\n",
       "Condition1     1459      9     Norm  1251\n",
       "Condition2     1459      5     Norm  1444\n",
       "BldgType       1459      5     1Fam  1205\n",
       "HouseStyle     1459      7   1Story   745\n",
       "RoofStyle      1459      6    Gable  1169\n",
       "RoofMatl       1459      4  CompShg  1442\n",
       "Exterior1st    1458     13  VinylSd   510\n",
       "Exterior2nd    1458     15  VinylSd   510\n",
       "MasVnrType     1443      4     None   878\n",
       "ExterQual      1459      4       TA   892\n",
       "ExterCond      1459      5       TA  1256\n",
       "Foundation     1459      6    PConc   661\n",
       "BsmtQual       1415      4       TA   634\n",
       "BsmtCond       1414      4       TA  1295\n",
       "BsmtExposure   1415      4       No   951\n",
       "BsmtFinType1   1417      6      GLQ   431\n",
       "BsmtFinType2   1417      6      Unf  1237\n",
       "Heating        1459      4     GasA  1446\n",
       "HeatingQC      1459      5       Ex   752\n",
       "CentralAir     1459      2        Y  1358\n",
       "Electrical     1459      4    SBrkr  1337\n",
       "KitchenQual    1458      4       TA   757\n",
       "Functional     1457      7      Typ  1357\n",
       "FireplaceQu     729      5       Gd   364\n",
       "GarageType     1383      6   Attchd   853\n",
       "GarageFinish   1381      3      Unf   625\n",
       "GarageQual     1381      4       TA  1293\n",
       "GarageCond     1381      5       TA  1328\n",
       "PavedDrive     1459      3        Y  1301\n",
       "PoolQC            3      2       Ex     2\n",
       "Fence           290      4    MnPrv   172\n",
       "MiscFeature      51      3     Shed    46\n",
       "SaleType       1458      9       WD  1258\n",
       "SaleCondition  1459      6   Normal  1204"
      ]
     },
     "execution_count": 189,
     "metadata": {},
     "output_type": "execute_result"
    }
   ],
   "source": [
    "house.describe(include='object').T"
   ]
  },
  {
   "cell_type": "code",
   "execution_count": 190,
   "id": "fde24043",
   "metadata": {},
   "outputs": [
    {
     "data": {
      "text/html": [
       "<div>\n",
       "<style scoped>\n",
       "    .dataframe tbody tr th:only-of-type {\n",
       "        vertical-align: middle;\n",
       "    }\n",
       "\n",
       "    .dataframe tbody tr th {\n",
       "        vertical-align: top;\n",
       "    }\n",
       "\n",
       "    .dataframe thead th {\n",
       "        text-align: right;\n",
       "    }\n",
       "</style>\n",
       "<table border=\"1\" class=\"dataframe\">\n",
       "  <thead>\n",
       "    <tr style=\"text-align: right;\">\n",
       "      <th></th>\n",
       "      <th>count</th>\n",
       "      <th>mean</th>\n",
       "      <th>std</th>\n",
       "      <th>min</th>\n",
       "      <th>25%</th>\n",
       "      <th>50%</th>\n",
       "      <th>75%</th>\n",
       "      <th>max</th>\n",
       "    </tr>\n",
       "  </thead>\n",
       "  <tbody>\n",
       "    <tr>\n",
       "      <th>Id</th>\n",
       "      <td>1459.0</td>\n",
       "      <td>2190.000000</td>\n",
       "      <td>421.321334</td>\n",
       "      <td>1461.0</td>\n",
       "      <td>1825.50</td>\n",
       "      <td>2190.0</td>\n",
       "      <td>2554.50</td>\n",
       "      <td>2919.0</td>\n",
       "    </tr>\n",
       "    <tr>\n",
       "      <th>MSSubClass</th>\n",
       "      <td>1459.0</td>\n",
       "      <td>57.378341</td>\n",
       "      <td>42.746880</td>\n",
       "      <td>20.0</td>\n",
       "      <td>20.00</td>\n",
       "      <td>50.0</td>\n",
       "      <td>70.00</td>\n",
       "      <td>190.0</td>\n",
       "    </tr>\n",
       "    <tr>\n",
       "      <th>LotFrontage</th>\n",
       "      <td>1232.0</td>\n",
       "      <td>68.580357</td>\n",
       "      <td>22.376841</td>\n",
       "      <td>21.0</td>\n",
       "      <td>58.00</td>\n",
       "      <td>67.0</td>\n",
       "      <td>80.00</td>\n",
       "      <td>200.0</td>\n",
       "    </tr>\n",
       "    <tr>\n",
       "      <th>LotArea</th>\n",
       "      <td>1459.0</td>\n",
       "      <td>9819.161069</td>\n",
       "      <td>4955.517327</td>\n",
       "      <td>1470.0</td>\n",
       "      <td>7391.00</td>\n",
       "      <td>9399.0</td>\n",
       "      <td>11517.50</td>\n",
       "      <td>56600.0</td>\n",
       "    </tr>\n",
       "    <tr>\n",
       "      <th>OverallQual</th>\n",
       "      <td>1459.0</td>\n",
       "      <td>6.078821</td>\n",
       "      <td>1.436812</td>\n",
       "      <td>1.0</td>\n",
       "      <td>5.00</td>\n",
       "      <td>6.0</td>\n",
       "      <td>7.00</td>\n",
       "      <td>10.0</td>\n",
       "    </tr>\n",
       "    <tr>\n",
       "      <th>OverallCond</th>\n",
       "      <td>1459.0</td>\n",
       "      <td>5.553804</td>\n",
       "      <td>1.113740</td>\n",
       "      <td>1.0</td>\n",
       "      <td>5.00</td>\n",
       "      <td>5.0</td>\n",
       "      <td>6.00</td>\n",
       "      <td>9.0</td>\n",
       "    </tr>\n",
       "    <tr>\n",
       "      <th>YearBuilt</th>\n",
       "      <td>1459.0</td>\n",
       "      <td>1971.357779</td>\n",
       "      <td>30.390071</td>\n",
       "      <td>1879.0</td>\n",
       "      <td>1953.00</td>\n",
       "      <td>1973.0</td>\n",
       "      <td>2001.00</td>\n",
       "      <td>2010.0</td>\n",
       "    </tr>\n",
       "    <tr>\n",
       "      <th>YearRemodAdd</th>\n",
       "      <td>1459.0</td>\n",
       "      <td>1983.662783</td>\n",
       "      <td>21.130467</td>\n",
       "      <td>1950.0</td>\n",
       "      <td>1963.00</td>\n",
       "      <td>1992.0</td>\n",
       "      <td>2004.00</td>\n",
       "      <td>2010.0</td>\n",
       "    </tr>\n",
       "    <tr>\n",
       "      <th>MasVnrArea</th>\n",
       "      <td>1444.0</td>\n",
       "      <td>100.709141</td>\n",
       "      <td>177.625900</td>\n",
       "      <td>0.0</td>\n",
       "      <td>0.00</td>\n",
       "      <td>0.0</td>\n",
       "      <td>164.00</td>\n",
       "      <td>1290.0</td>\n",
       "    </tr>\n",
       "    <tr>\n",
       "      <th>BsmtFinSF1</th>\n",
       "      <td>1458.0</td>\n",
       "      <td>439.203704</td>\n",
       "      <td>455.268042</td>\n",
       "      <td>0.0</td>\n",
       "      <td>0.00</td>\n",
       "      <td>350.5</td>\n",
       "      <td>753.50</td>\n",
       "      <td>4010.0</td>\n",
       "    </tr>\n",
       "    <tr>\n",
       "      <th>BsmtFinSF2</th>\n",
       "      <td>1458.0</td>\n",
       "      <td>52.619342</td>\n",
       "      <td>176.753926</td>\n",
       "      <td>0.0</td>\n",
       "      <td>0.00</td>\n",
       "      <td>0.0</td>\n",
       "      <td>0.00</td>\n",
       "      <td>1526.0</td>\n",
       "    </tr>\n",
       "    <tr>\n",
       "      <th>BsmtUnfSF</th>\n",
       "      <td>1458.0</td>\n",
       "      <td>554.294925</td>\n",
       "      <td>437.260486</td>\n",
       "      <td>0.0</td>\n",
       "      <td>219.25</td>\n",
       "      <td>460.0</td>\n",
       "      <td>797.75</td>\n",
       "      <td>2140.0</td>\n",
       "    </tr>\n",
       "    <tr>\n",
       "      <th>TotalBsmtSF</th>\n",
       "      <td>1458.0</td>\n",
       "      <td>1046.117970</td>\n",
       "      <td>442.898624</td>\n",
       "      <td>0.0</td>\n",
       "      <td>784.00</td>\n",
       "      <td>988.0</td>\n",
       "      <td>1305.00</td>\n",
       "      <td>5095.0</td>\n",
       "    </tr>\n",
       "    <tr>\n",
       "      <th>1stFlrSF</th>\n",
       "      <td>1459.0</td>\n",
       "      <td>1156.534613</td>\n",
       "      <td>398.165820</td>\n",
       "      <td>407.0</td>\n",
       "      <td>873.50</td>\n",
       "      <td>1079.0</td>\n",
       "      <td>1382.50</td>\n",
       "      <td>5095.0</td>\n",
       "    </tr>\n",
       "    <tr>\n",
       "      <th>2ndFlrSF</th>\n",
       "      <td>1459.0</td>\n",
       "      <td>325.967786</td>\n",
       "      <td>420.610226</td>\n",
       "      <td>0.0</td>\n",
       "      <td>0.00</td>\n",
       "      <td>0.0</td>\n",
       "      <td>676.00</td>\n",
       "      <td>1862.0</td>\n",
       "    </tr>\n",
       "    <tr>\n",
       "      <th>LowQualFinSF</th>\n",
       "      <td>1459.0</td>\n",
       "      <td>3.543523</td>\n",
       "      <td>44.043251</td>\n",
       "      <td>0.0</td>\n",
       "      <td>0.00</td>\n",
       "      <td>0.0</td>\n",
       "      <td>0.00</td>\n",
       "      <td>1064.0</td>\n",
       "    </tr>\n",
       "    <tr>\n",
       "      <th>GrLivArea</th>\n",
       "      <td>1459.0</td>\n",
       "      <td>1486.045922</td>\n",
       "      <td>485.566099</td>\n",
       "      <td>407.0</td>\n",
       "      <td>1117.50</td>\n",
       "      <td>1432.0</td>\n",
       "      <td>1721.00</td>\n",
       "      <td>5095.0</td>\n",
       "    </tr>\n",
       "    <tr>\n",
       "      <th>BsmtFullBath</th>\n",
       "      <td>1457.0</td>\n",
       "      <td>0.434454</td>\n",
       "      <td>0.530648</td>\n",
       "      <td>0.0</td>\n",
       "      <td>0.00</td>\n",
       "      <td>0.0</td>\n",
       "      <td>1.00</td>\n",
       "      <td>3.0</td>\n",
       "    </tr>\n",
       "    <tr>\n",
       "      <th>BsmtHalfBath</th>\n",
       "      <td>1457.0</td>\n",
       "      <td>0.065202</td>\n",
       "      <td>0.252468</td>\n",
       "      <td>0.0</td>\n",
       "      <td>0.00</td>\n",
       "      <td>0.0</td>\n",
       "      <td>0.00</td>\n",
       "      <td>2.0</td>\n",
       "    </tr>\n",
       "    <tr>\n",
       "      <th>FullBath</th>\n",
       "      <td>1459.0</td>\n",
       "      <td>1.570939</td>\n",
       "      <td>0.555190</td>\n",
       "      <td>0.0</td>\n",
       "      <td>1.00</td>\n",
       "      <td>2.0</td>\n",
       "      <td>2.00</td>\n",
       "      <td>4.0</td>\n",
       "    </tr>\n",
       "    <tr>\n",
       "      <th>HalfBath</th>\n",
       "      <td>1459.0</td>\n",
       "      <td>0.377656</td>\n",
       "      <td>0.503017</td>\n",
       "      <td>0.0</td>\n",
       "      <td>0.00</td>\n",
       "      <td>0.0</td>\n",
       "      <td>1.00</td>\n",
       "      <td>2.0</td>\n",
       "    </tr>\n",
       "    <tr>\n",
       "      <th>BedroomAbvGr</th>\n",
       "      <td>1459.0</td>\n",
       "      <td>2.854010</td>\n",
       "      <td>0.829788</td>\n",
       "      <td>0.0</td>\n",
       "      <td>2.00</td>\n",
       "      <td>3.0</td>\n",
       "      <td>3.00</td>\n",
       "      <td>6.0</td>\n",
       "    </tr>\n",
       "    <tr>\n",
       "      <th>KitchenAbvGr</th>\n",
       "      <td>1459.0</td>\n",
       "      <td>1.042495</td>\n",
       "      <td>0.208472</td>\n",
       "      <td>0.0</td>\n",
       "      <td>1.00</td>\n",
       "      <td>1.0</td>\n",
       "      <td>1.00</td>\n",
       "      <td>2.0</td>\n",
       "    </tr>\n",
       "    <tr>\n",
       "      <th>TotRmsAbvGrd</th>\n",
       "      <td>1459.0</td>\n",
       "      <td>6.385195</td>\n",
       "      <td>1.508895</td>\n",
       "      <td>3.0</td>\n",
       "      <td>5.00</td>\n",
       "      <td>6.0</td>\n",
       "      <td>7.00</td>\n",
       "      <td>15.0</td>\n",
       "    </tr>\n",
       "    <tr>\n",
       "      <th>Fireplaces</th>\n",
       "      <td>1459.0</td>\n",
       "      <td>0.581220</td>\n",
       "      <td>0.647420</td>\n",
       "      <td>0.0</td>\n",
       "      <td>0.00</td>\n",
       "      <td>0.0</td>\n",
       "      <td>1.00</td>\n",
       "      <td>4.0</td>\n",
       "    </tr>\n",
       "    <tr>\n",
       "      <th>GarageYrBlt</th>\n",
       "      <td>1381.0</td>\n",
       "      <td>1977.721217</td>\n",
       "      <td>26.431175</td>\n",
       "      <td>1895.0</td>\n",
       "      <td>1959.00</td>\n",
       "      <td>1979.0</td>\n",
       "      <td>2002.00</td>\n",
       "      <td>2207.0</td>\n",
       "    </tr>\n",
       "    <tr>\n",
       "      <th>GarageCars</th>\n",
       "      <td>1458.0</td>\n",
       "      <td>1.766118</td>\n",
       "      <td>0.775945</td>\n",
       "      <td>0.0</td>\n",
       "      <td>1.00</td>\n",
       "      <td>2.0</td>\n",
       "      <td>2.00</td>\n",
       "      <td>5.0</td>\n",
       "    </tr>\n",
       "    <tr>\n",
       "      <th>GarageArea</th>\n",
       "      <td>1458.0</td>\n",
       "      <td>472.768861</td>\n",
       "      <td>217.048611</td>\n",
       "      <td>0.0</td>\n",
       "      <td>318.00</td>\n",
       "      <td>480.0</td>\n",
       "      <td>576.00</td>\n",
       "      <td>1488.0</td>\n",
       "    </tr>\n",
       "    <tr>\n",
       "      <th>WoodDeckSF</th>\n",
       "      <td>1459.0</td>\n",
       "      <td>93.174777</td>\n",
       "      <td>127.744882</td>\n",
       "      <td>0.0</td>\n",
       "      <td>0.00</td>\n",
       "      <td>0.0</td>\n",
       "      <td>168.00</td>\n",
       "      <td>1424.0</td>\n",
       "    </tr>\n",
       "    <tr>\n",
       "      <th>OpenPorchSF</th>\n",
       "      <td>1459.0</td>\n",
       "      <td>48.313914</td>\n",
       "      <td>68.883364</td>\n",
       "      <td>0.0</td>\n",
       "      <td>0.00</td>\n",
       "      <td>28.0</td>\n",
       "      <td>72.00</td>\n",
       "      <td>742.0</td>\n",
       "    </tr>\n",
       "    <tr>\n",
       "      <th>EnclosedPorch</th>\n",
       "      <td>1459.0</td>\n",
       "      <td>24.243317</td>\n",
       "      <td>67.227765</td>\n",
       "      <td>0.0</td>\n",
       "      <td>0.00</td>\n",
       "      <td>0.0</td>\n",
       "      <td>0.00</td>\n",
       "      <td>1012.0</td>\n",
       "    </tr>\n",
       "    <tr>\n",
       "      <th>3SsnPorch</th>\n",
       "      <td>1459.0</td>\n",
       "      <td>1.794380</td>\n",
       "      <td>20.207842</td>\n",
       "      <td>0.0</td>\n",
       "      <td>0.00</td>\n",
       "      <td>0.0</td>\n",
       "      <td>0.00</td>\n",
       "      <td>360.0</td>\n",
       "    </tr>\n",
       "    <tr>\n",
       "      <th>ScreenPorch</th>\n",
       "      <td>1459.0</td>\n",
       "      <td>17.064428</td>\n",
       "      <td>56.609763</td>\n",
       "      <td>0.0</td>\n",
       "      <td>0.00</td>\n",
       "      <td>0.0</td>\n",
       "      <td>0.00</td>\n",
       "      <td>576.0</td>\n",
       "    </tr>\n",
       "    <tr>\n",
       "      <th>PoolArea</th>\n",
       "      <td>1459.0</td>\n",
       "      <td>1.744345</td>\n",
       "      <td>30.491646</td>\n",
       "      <td>0.0</td>\n",
       "      <td>0.00</td>\n",
       "      <td>0.0</td>\n",
       "      <td>0.00</td>\n",
       "      <td>800.0</td>\n",
       "    </tr>\n",
       "    <tr>\n",
       "      <th>MiscVal</th>\n",
       "      <td>1459.0</td>\n",
       "      <td>58.167923</td>\n",
       "      <td>630.806978</td>\n",
       "      <td>0.0</td>\n",
       "      <td>0.00</td>\n",
       "      <td>0.0</td>\n",
       "      <td>0.00</td>\n",
       "      <td>17000.0</td>\n",
       "    </tr>\n",
       "    <tr>\n",
       "      <th>MoSold</th>\n",
       "      <td>1459.0</td>\n",
       "      <td>6.104181</td>\n",
       "      <td>2.722432</td>\n",
       "      <td>1.0</td>\n",
       "      <td>4.00</td>\n",
       "      <td>6.0</td>\n",
       "      <td>8.00</td>\n",
       "      <td>12.0</td>\n",
       "    </tr>\n",
       "    <tr>\n",
       "      <th>YrSold</th>\n",
       "      <td>1459.0</td>\n",
       "      <td>2007.769705</td>\n",
       "      <td>1.301740</td>\n",
       "      <td>2006.0</td>\n",
       "      <td>2007.00</td>\n",
       "      <td>2008.0</td>\n",
       "      <td>2009.00</td>\n",
       "      <td>2010.0</td>\n",
       "    </tr>\n",
       "  </tbody>\n",
       "</table>\n",
       "</div>"
      ],
      "text/plain": [
       "                count         mean          std     min      25%     50%  \\\n",
       "Id             1459.0  2190.000000   421.321334  1461.0  1825.50  2190.0   \n",
       "MSSubClass     1459.0    57.378341    42.746880    20.0    20.00    50.0   \n",
       "LotFrontage    1232.0    68.580357    22.376841    21.0    58.00    67.0   \n",
       "LotArea        1459.0  9819.161069  4955.517327  1470.0  7391.00  9399.0   \n",
       "OverallQual    1459.0     6.078821     1.436812     1.0     5.00     6.0   \n",
       "OverallCond    1459.0     5.553804     1.113740     1.0     5.00     5.0   \n",
       "YearBuilt      1459.0  1971.357779    30.390071  1879.0  1953.00  1973.0   \n",
       "YearRemodAdd   1459.0  1983.662783    21.130467  1950.0  1963.00  1992.0   \n",
       "MasVnrArea     1444.0   100.709141   177.625900     0.0     0.00     0.0   \n",
       "BsmtFinSF1     1458.0   439.203704   455.268042     0.0     0.00   350.5   \n",
       "BsmtFinSF2     1458.0    52.619342   176.753926     0.0     0.00     0.0   \n",
       "BsmtUnfSF      1458.0   554.294925   437.260486     0.0   219.25   460.0   \n",
       "TotalBsmtSF    1458.0  1046.117970   442.898624     0.0   784.00   988.0   \n",
       "1stFlrSF       1459.0  1156.534613   398.165820   407.0   873.50  1079.0   \n",
       "2ndFlrSF       1459.0   325.967786   420.610226     0.0     0.00     0.0   \n",
       "LowQualFinSF   1459.0     3.543523    44.043251     0.0     0.00     0.0   \n",
       "GrLivArea      1459.0  1486.045922   485.566099   407.0  1117.50  1432.0   \n",
       "BsmtFullBath   1457.0     0.434454     0.530648     0.0     0.00     0.0   \n",
       "BsmtHalfBath   1457.0     0.065202     0.252468     0.0     0.00     0.0   \n",
       "FullBath       1459.0     1.570939     0.555190     0.0     1.00     2.0   \n",
       "HalfBath       1459.0     0.377656     0.503017     0.0     0.00     0.0   \n",
       "BedroomAbvGr   1459.0     2.854010     0.829788     0.0     2.00     3.0   \n",
       "KitchenAbvGr   1459.0     1.042495     0.208472     0.0     1.00     1.0   \n",
       "TotRmsAbvGrd   1459.0     6.385195     1.508895     3.0     5.00     6.0   \n",
       "Fireplaces     1459.0     0.581220     0.647420     0.0     0.00     0.0   \n",
       "GarageYrBlt    1381.0  1977.721217    26.431175  1895.0  1959.00  1979.0   \n",
       "GarageCars     1458.0     1.766118     0.775945     0.0     1.00     2.0   \n",
       "GarageArea     1458.0   472.768861   217.048611     0.0   318.00   480.0   \n",
       "WoodDeckSF     1459.0    93.174777   127.744882     0.0     0.00     0.0   \n",
       "OpenPorchSF    1459.0    48.313914    68.883364     0.0     0.00    28.0   \n",
       "EnclosedPorch  1459.0    24.243317    67.227765     0.0     0.00     0.0   \n",
       "3SsnPorch      1459.0     1.794380    20.207842     0.0     0.00     0.0   \n",
       "ScreenPorch    1459.0    17.064428    56.609763     0.0     0.00     0.0   \n",
       "PoolArea       1459.0     1.744345    30.491646     0.0     0.00     0.0   \n",
       "MiscVal        1459.0    58.167923   630.806978     0.0     0.00     0.0   \n",
       "MoSold         1459.0     6.104181     2.722432     1.0     4.00     6.0   \n",
       "YrSold         1459.0  2007.769705     1.301740  2006.0  2007.00  2008.0   \n",
       "\n",
       "                    75%      max  \n",
       "Id              2554.50   2919.0  \n",
       "MSSubClass        70.00    190.0  \n",
       "LotFrontage       80.00    200.0  \n",
       "LotArea        11517.50  56600.0  \n",
       "OverallQual        7.00     10.0  \n",
       "OverallCond        6.00      9.0  \n",
       "YearBuilt       2001.00   2010.0  \n",
       "YearRemodAdd    2004.00   2010.0  \n",
       "MasVnrArea       164.00   1290.0  \n",
       "BsmtFinSF1       753.50   4010.0  \n",
       "BsmtFinSF2         0.00   1526.0  \n",
       "BsmtUnfSF        797.75   2140.0  \n",
       "TotalBsmtSF     1305.00   5095.0  \n",
       "1stFlrSF        1382.50   5095.0  \n",
       "2ndFlrSF         676.00   1862.0  \n",
       "LowQualFinSF       0.00   1064.0  \n",
       "GrLivArea       1721.00   5095.0  \n",
       "BsmtFullBath       1.00      3.0  \n",
       "BsmtHalfBath       0.00      2.0  \n",
       "FullBath           2.00      4.0  \n",
       "HalfBath           1.00      2.0  \n",
       "BedroomAbvGr       3.00      6.0  \n",
       "KitchenAbvGr       1.00      2.0  \n",
       "TotRmsAbvGrd       7.00     15.0  \n",
       "Fireplaces         1.00      4.0  \n",
       "GarageYrBlt     2002.00   2207.0  \n",
       "GarageCars         2.00      5.0  \n",
       "GarageArea       576.00   1488.0  \n",
       "WoodDeckSF       168.00   1424.0  \n",
       "OpenPorchSF       72.00    742.0  \n",
       "EnclosedPorch      0.00   1012.0  \n",
       "3SsnPorch          0.00    360.0  \n",
       "ScreenPorch        0.00    576.0  \n",
       "PoolArea           0.00    800.0  \n",
       "MiscVal            0.00  17000.0  \n",
       "MoSold             8.00     12.0  \n",
       "YrSold          2009.00   2010.0  "
      ]
     },
     "execution_count": 190,
     "metadata": {},
     "output_type": "execute_result"
    }
   ],
   "source": [
    "house.describe().T"
   ]
  },
  {
   "cell_type": "code",
   "execution_count": 191,
   "id": "3ad9890f",
   "metadata": {},
   "outputs": [],
   "source": [
    "null_columns=house.columns[house.isnull().any()]"
   ]
  },
  {
   "cell_type": "code",
   "execution_count": 192,
   "id": "b3aaf370",
   "metadata": {},
   "outputs": [
    {
     "data": {
      "text/plain": [
       "['MSZoning',\n",
       " 'LotFrontage',\n",
       " 'Alley',\n",
       " 'Utilities',\n",
       " 'Exterior1st',\n",
       " 'Exterior2nd',\n",
       " 'MasVnrType',\n",
       " 'MasVnrArea',\n",
       " 'BsmtQual',\n",
       " 'BsmtCond',\n",
       " 'BsmtExposure',\n",
       " 'BsmtFinType1',\n",
       " 'BsmtFinSF1',\n",
       " 'BsmtFinType2',\n",
       " 'BsmtFinSF2',\n",
       " 'BsmtUnfSF',\n",
       " 'TotalBsmtSF',\n",
       " 'BsmtFullBath',\n",
       " 'BsmtHalfBath',\n",
       " 'KitchenQual',\n",
       " 'Functional',\n",
       " 'FireplaceQu',\n",
       " 'GarageType',\n",
       " 'GarageYrBlt',\n",
       " 'GarageFinish',\n",
       " 'GarageCars',\n",
       " 'GarageArea',\n",
       " 'GarageQual',\n",
       " 'GarageCond',\n",
       " 'PoolQC',\n",
       " 'Fence',\n",
       " 'MiscFeature',\n",
       " 'SaleType']"
      ]
     },
     "execution_count": 192,
     "metadata": {},
     "output_type": "execute_result"
    }
   ],
   "source": [
    "list(null_columns)"
   ]
  },
  {
   "cell_type": "code",
   "execution_count": 193,
   "id": "99c9bd01",
   "metadata": {},
   "outputs": [
    {
     "name": "stdout",
     "output_type": "stream",
     "text": [
      "MSZoning\n",
      "LotFrontage\n",
      "Alley\n",
      "Utilities\n",
      "Exterior1st\n",
      "Exterior2nd\n",
      "MasVnrType\n",
      "MasVnrArea\n",
      "BsmtQual\n",
      "BsmtCond\n",
      "BsmtExposure\n",
      "BsmtFinType1\n",
      "BsmtFinSF1\n",
      "BsmtFinType2\n",
      "BsmtFinSF2\n",
      "BsmtUnfSF\n",
      "TotalBsmtSF\n",
      "BsmtFullBath\n",
      "BsmtHalfBath\n",
      "KitchenQual\n",
      "Functional\n",
      "FireplaceQu\n",
      "GarageType\n",
      "GarageYrBlt\n",
      "GarageFinish\n",
      "GarageCars\n",
      "GarageArea\n",
      "GarageQual\n",
      "GarageCond\n",
      "PoolQC\n",
      "Fence\n",
      "MiscFeature\n",
      "SaleType\n"
     ]
    }
   ],
   "source": [
    "for x in null_columns:\n",
    "    print(x)"
   ]
  },
  {
   "cell_type": "code",
   "execution_count": 194,
   "id": "166667ab",
   "metadata": {},
   "outputs": [
    {
     "data": {
      "text/plain": [
       "MSZoning         0.274160\n",
       "LotFrontage     15.558602\n",
       "Alley           92.666210\n",
       "Utilities        0.137080\n",
       "Exterior1st      0.068540\n",
       "Exterior2nd      0.068540\n",
       "MasVnrType       1.096642\n",
       "MasVnrArea       1.028101\n",
       "BsmtQual         3.015764\n",
       "BsmtCond         3.084304\n",
       "BsmtExposure     3.015764\n",
       "BsmtFinType1     2.878684\n",
       "BsmtFinSF1       0.068540\n",
       "BsmtFinType2     2.878684\n",
       "BsmtFinSF2       0.068540\n",
       "BsmtUnfSF        0.068540\n",
       "TotalBsmtSF      0.068540\n",
       "BsmtFullBath     0.137080\n",
       "BsmtHalfBath     0.137080\n",
       "KitchenQual      0.068540\n",
       "Functional       0.137080\n",
       "FireplaceQu     50.034270\n",
       "GarageType       5.209047\n",
       "GarageYrBlt      5.346127\n",
       "GarageFinish     5.346127\n",
       "GarageCars       0.068540\n",
       "GarageArea       0.068540\n",
       "GarageQual       5.346127\n",
       "GarageCond       5.346127\n",
       "PoolQC          99.794380\n",
       "Fence           80.123372\n",
       "MiscFeature     96.504455\n",
       "SaleType         0.068540\n",
       "dtype: float64"
      ]
     },
     "execution_count": 194,
     "metadata": {},
     "output_type": "execute_result"
    }
   ],
   "source": [
    "house[null_columns].isnull().sum()*100/len(house)"
   ]
  },
  {
   "cell_type": "code",
   "execution_count": 195,
   "id": "8e2d9b1e",
   "metadata": {},
   "outputs": [
    {
     "data": {
      "text/plain": [
       "MSZoning           4\n",
       "LotFrontage      227\n",
       "Alley           1352\n",
       "Utilities          2\n",
       "Exterior1st        1\n",
       "Exterior2nd        1\n",
       "MasVnrType        16\n",
       "MasVnrArea        15\n",
       "BsmtQual          44\n",
       "BsmtCond          45\n",
       "BsmtExposure      44\n",
       "BsmtFinType1      42\n",
       "BsmtFinSF1         1\n",
       "BsmtFinType2      42\n",
       "BsmtFinSF2         1\n",
       "BsmtUnfSF          1\n",
       "TotalBsmtSF        1\n",
       "BsmtFullBath       2\n",
       "BsmtHalfBath       2\n",
       "KitchenQual        1\n",
       "Functional         2\n",
       "FireplaceQu      730\n",
       "GarageType        76\n",
       "GarageYrBlt       78\n",
       "GarageFinish      78\n",
       "GarageCars         1\n",
       "GarageArea         1\n",
       "GarageQual        78\n",
       "GarageCond        78\n",
       "PoolQC          1456\n",
       "Fence           1169\n",
       "MiscFeature     1408\n",
       "SaleType           1\n",
       "dtype: int64"
      ]
     },
     "execution_count": 195,
     "metadata": {},
     "output_type": "execute_result"
    }
   ],
   "source": [
    "house[null_columns].isnull().sum()"
   ]
  },
  {
   "cell_type": "code",
   "execution_count": 196,
   "id": "96206f0c",
   "metadata": {},
   "outputs": [],
   "source": [
    "house[\"LotFrontage\"].fillna(value=0.00,inplace=True)"
   ]
  },
  {
   "cell_type": "code",
   "execution_count": 197,
   "id": "8f85ae24",
   "metadata": {},
   "outputs": [
    {
     "data": {
      "text/plain": [
       "0"
      ]
     },
     "execution_count": 197,
     "metadata": {},
     "output_type": "execute_result"
    }
   ],
   "source": [
    "house[\"LotFrontage\"].isnull().sum()"
   ]
  },
  {
   "cell_type": "code",
   "execution_count": 198,
   "id": "77fa0271",
   "metadata": {},
   "outputs": [],
   "source": [
    "house[\"MasVnrArea\"].fillna(value=0.00,inplace=True)"
   ]
  },
  {
   "cell_type": "code",
   "execution_count": 199,
   "id": "6e186aa6",
   "metadata": {},
   "outputs": [
    {
     "data": {
      "text/plain": [
       "0"
      ]
     },
     "execution_count": 199,
     "metadata": {},
     "output_type": "execute_result"
    }
   ],
   "source": [
    "house[\"MasVnrArea\"].isnull().sum()"
   ]
  },
  {
   "cell_type": "code",
   "execution_count": 200,
   "id": "085396cd",
   "metadata": {},
   "outputs": [],
   "source": [
    "house[\"Alley\"].fillna(value=\"No Alley Access\",inplace=True)"
   ]
  },
  {
   "cell_type": "code",
   "execution_count": 201,
   "id": "8d2b6e74",
   "metadata": {},
   "outputs": [
    {
     "data": {
      "text/plain": [
       "0"
      ]
     },
     "execution_count": 201,
     "metadata": {},
     "output_type": "execute_result"
    }
   ],
   "source": [
    "house[\"Alley\"].isnull().sum()"
   ]
  },
  {
   "cell_type": "code",
   "execution_count": 202,
   "id": "72f93b45",
   "metadata": {},
   "outputs": [],
   "source": [
    "house[\"MasVnrType\"] = np.where((house[\"MSZoning\"] ==\"FV\") & (house[\"MasVnrType\"].isnull()) , 'None',house[\"MasVnrType\"])"
   ]
  },
  {
   "cell_type": "code",
   "execution_count": 203,
   "id": "e214d363",
   "metadata": {},
   "outputs": [],
   "source": [
    "house[\"MasVnrType\"] = np.where((house[\"MSZoning\"] ==\"RL\") & (house[\"MSSubClass\"] ==20) & (house[\"MasVnrType\"].isnull()) , 'None',house[\"MasVnrType\"])"
   ]
  },
  {
   "cell_type": "code",
   "execution_count": 204,
   "id": "bf70dbfa",
   "metadata": {},
   "outputs": [],
   "source": [
    "house[\"MasVnrType\"] = np.where((house[\"MSZoning\"] ==\"RL\") & (house[\"MSSubClass\"] ==60) & (house[\"MasVnrType\"].isnull()) ,'BrkFace',house[\"MasVnrType\"])"
   ]
  },
  {
   "cell_type": "code",
   "execution_count": 205,
   "id": "c803242f",
   "metadata": {},
   "outputs": [
    {
     "data": {
      "text/plain": [
       "1"
      ]
     },
     "execution_count": 205,
     "metadata": {},
     "output_type": "execute_result"
    }
   ],
   "source": [
    "house[\"MasVnrType\"].isnull().sum()"
   ]
  },
  {
   "cell_type": "code",
   "execution_count": 206,
   "id": "7bfde796",
   "metadata": {},
   "outputs": [],
   "source": [
    "house[\"BsmtQual\"].fillna(value=\"No Basement\",inplace=True)"
   ]
  },
  {
   "cell_type": "code",
   "execution_count": 207,
   "id": "36f6cbea",
   "metadata": {},
   "outputs": [],
   "source": [
    "house[\"BsmtCond\"].fillna(value=\"No Basement\",inplace=True)"
   ]
  },
  {
   "cell_type": "code",
   "execution_count": 208,
   "id": "9c094b79",
   "metadata": {},
   "outputs": [],
   "source": [
    "house[\"BsmtExposure\"].fillna(value=\"No Basement\",inplace=True)"
   ]
  },
  {
   "cell_type": "code",
   "execution_count": 209,
   "id": "0ff11da4",
   "metadata": {},
   "outputs": [],
   "source": [
    "house[\"BsmtFinType1\"].fillna(value=\"No Basement\",inplace=True)"
   ]
  },
  {
   "cell_type": "code",
   "execution_count": 210,
   "id": "5ec80f9a",
   "metadata": {},
   "outputs": [],
   "source": [
    "house[\"BsmtFinType2\"].fillna(value=\"No Basement\",inplace=True)"
   ]
  },
  {
   "cell_type": "code",
   "execution_count": 211,
   "id": "6b7bfc4a",
   "metadata": {},
   "outputs": [],
   "source": [
    "house[\"Electrical\"].fillna(value=\"SBrkr\",inplace=True)"
   ]
  },
  {
   "cell_type": "code",
   "execution_count": 212,
   "id": "2a27b3d7",
   "metadata": {},
   "outputs": [],
   "source": [
    "house[\"GarageType\"].fillna(value=\"No Garage\",inplace=True)"
   ]
  },
  {
   "cell_type": "code",
   "execution_count": 213,
   "id": "d6f4411c",
   "metadata": {},
   "outputs": [],
   "source": [
    "house[\"GarageFinish\"].fillna(value=\"No Garage\",inplace=True)"
   ]
  },
  {
   "cell_type": "code",
   "execution_count": 214,
   "id": "5f434d11",
   "metadata": {},
   "outputs": [],
   "source": [
    "house[\"GarageQual\"].fillna(value=\"No Garage\",inplace=True)"
   ]
  },
  {
   "cell_type": "code",
   "execution_count": 215,
   "id": "921ec857",
   "metadata": {},
   "outputs": [],
   "source": [
    "house[\"GarageCond\"].fillna(value=\"No Garage\",inplace=True)"
   ]
  },
  {
   "cell_type": "code",
   "execution_count": 216,
   "id": "b464a876",
   "metadata": {},
   "outputs": [],
   "source": [
    "house[\"PoolQC\"].fillna(value=\"No Pool\",inplace=True)"
   ]
  },
  {
   "cell_type": "code",
   "execution_count": 217,
   "id": "21de4134",
   "metadata": {},
   "outputs": [],
   "source": [
    "house[\"Fence\"].fillna(value=\"No Fence\",inplace=True)"
   ]
  },
  {
   "cell_type": "code",
   "execution_count": 218,
   "id": "5394f925",
   "metadata": {},
   "outputs": [],
   "source": [
    "house[\"MiscFeature\"].fillna(value=\"None\",inplace=True)"
   ]
  },
  {
   "cell_type": "code",
   "execution_count": 219,
   "id": "3d65375d",
   "metadata": {},
   "outputs": [
    {
     "data": {
      "text/plain": [
       "MSZoning          4\n",
       "LotFrontage       0\n",
       "Alley             0\n",
       "Utilities         2\n",
       "Exterior1st       1\n",
       "Exterior2nd       1\n",
       "MasVnrType        1\n",
       "MasVnrArea        0\n",
       "BsmtQual          0\n",
       "BsmtCond          0\n",
       "BsmtExposure      0\n",
       "BsmtFinType1      0\n",
       "BsmtFinSF1        1\n",
       "BsmtFinType2      0\n",
       "BsmtFinSF2        1\n",
       "BsmtUnfSF         1\n",
       "TotalBsmtSF       1\n",
       "BsmtFullBath      2\n",
       "BsmtHalfBath      2\n",
       "KitchenQual       1\n",
       "Functional        2\n",
       "FireplaceQu     730\n",
       "GarageType        0\n",
       "GarageYrBlt      78\n",
       "GarageFinish      0\n",
       "GarageCars        1\n",
       "GarageArea        1\n",
       "GarageQual        0\n",
       "GarageCond        0\n",
       "PoolQC            0\n",
       "Fence             0\n",
       "MiscFeature       0\n",
       "SaleType          1\n",
       "dtype: int64"
      ]
     },
     "execution_count": 219,
     "metadata": {},
     "output_type": "execute_result"
    }
   ],
   "source": [
    "house[null_columns].isnull().sum()"
   ]
  },
  {
   "cell_type": "code",
   "execution_count": 220,
   "id": "b658b4b4",
   "metadata": {},
   "outputs": [],
   "source": [
    "house[\"FireplaceQu\"].fillna(value=\"No Fireplace\",inplace=True)"
   ]
  },
  {
   "cell_type": "code",
   "execution_count": 221,
   "id": "b1ef412f",
   "metadata": {},
   "outputs": [],
   "source": [
    "house[\"GarageYrBlt\"].fillna(value=1950,inplace=True)"
   ]
  },
  {
   "cell_type": "code",
   "execution_count": 222,
   "id": "56cf7a37",
   "metadata": {},
   "outputs": [
    {
     "data": {
      "text/plain": [
       "MSZoning        4\n",
       "LotFrontage     0\n",
       "Alley           0\n",
       "Utilities       2\n",
       "Exterior1st     1\n",
       "Exterior2nd     1\n",
       "MasVnrType      1\n",
       "MasVnrArea      0\n",
       "BsmtQual        0\n",
       "BsmtCond        0\n",
       "BsmtExposure    0\n",
       "BsmtFinType1    0\n",
       "BsmtFinSF1      1\n",
       "BsmtFinType2    0\n",
       "BsmtFinSF2      1\n",
       "BsmtUnfSF       1\n",
       "TotalBsmtSF     1\n",
       "BsmtFullBath    2\n",
       "BsmtHalfBath    2\n",
       "KitchenQual     1\n",
       "Functional      2\n",
       "FireplaceQu     0\n",
       "GarageType      0\n",
       "GarageYrBlt     0\n",
       "GarageFinish    0\n",
       "GarageCars      1\n",
       "GarageArea      1\n",
       "GarageQual      0\n",
       "GarageCond      0\n",
       "PoolQC          0\n",
       "Fence           0\n",
       "MiscFeature     0\n",
       "SaleType        1\n",
       "dtype: int64"
      ]
     },
     "execution_count": 222,
     "metadata": {},
     "output_type": "execute_result"
    }
   ],
   "source": [
    "house[null_columns].isnull().sum()"
   ]
  },
  {
   "cell_type": "code",
   "execution_count": 223,
   "id": "6523065c",
   "metadata": {},
   "outputs": [],
   "source": [
    "null_columns=house.columns[house.isnull().any()]"
   ]
  },
  {
   "cell_type": "code",
   "execution_count": 224,
   "id": "0f468458",
   "metadata": {},
   "outputs": [
    {
     "data": {
      "text/plain": [
       "MSZoning        4\n",
       "Utilities       2\n",
       "Exterior1st     1\n",
       "Exterior2nd     1\n",
       "MasVnrType      1\n",
       "BsmtFinSF1      1\n",
       "BsmtFinSF2      1\n",
       "BsmtUnfSF       1\n",
       "TotalBsmtSF     1\n",
       "BsmtFullBath    2\n",
       "BsmtHalfBath    2\n",
       "KitchenQual     1\n",
       "Functional      2\n",
       "GarageCars      1\n",
       "GarageArea      1\n",
       "SaleType        1\n",
       "dtype: int64"
      ]
     },
     "execution_count": 224,
     "metadata": {},
     "output_type": "execute_result"
    }
   ],
   "source": [
    "house[null_columns].isnull().sum()"
   ]
  },
  {
   "cell_type": "code",
   "execution_count": 225,
   "id": "bcad5f9e",
   "metadata": {},
   "outputs": [],
   "source": [
    "house[\"Utilities\"].fillna(value=\"ELO\",inplace=True)"
   ]
  },
  {
   "cell_type": "code",
   "execution_count": 226,
   "id": "b0d9e458",
   "metadata": {},
   "outputs": [
    {
     "data": {
      "text/plain": [
       "VinylSd    510\n",
       "MetalSd    230\n",
       "HdBoard    220\n",
       "Wd Sdng    205\n",
       "Plywood    113\n",
       "CemntBd     65\n",
       "BrkFace     37\n",
       "WdShing     30\n",
       "AsbShng     24\n",
       "Stucco      18\n",
       "BrkComm      4\n",
       "AsphShn      1\n",
       "CBlock       1\n",
       "Name: Exterior1st, dtype: int64"
      ]
     },
     "execution_count": 226,
     "metadata": {},
     "output_type": "execute_result"
    }
   ],
   "source": [
    "house['Exterior1st'].value_counts()"
   ]
  },
  {
   "cell_type": "code",
   "execution_count": 227,
   "id": "4850d15f",
   "metadata": {},
   "outputs": [
    {
     "data": {
      "text/plain": [
       "VinylSd    510\n",
       "MetalSd    233\n",
       "HdBoard    199\n",
       "Wd Sdng    194\n",
       "Plywood    128\n",
       "CmentBd     66\n",
       "Wd Shng     43\n",
       "BrkFace     22\n",
       "Stucco      21\n",
       "AsbShng     18\n",
       "Brk Cmn     15\n",
       "ImStucc      5\n",
       "CBlock       2\n",
       "AsphShn      1\n",
       "Stone        1\n",
       "Name: Exterior2nd, dtype: int64"
      ]
     },
     "execution_count": 227,
     "metadata": {},
     "output_type": "execute_result"
    }
   ],
   "source": [
    "house['Exterior2nd'].value_counts()"
   ]
  },
  {
   "cell_type": "code",
   "execution_count": 228,
   "id": "3e727beb",
   "metadata": {},
   "outputs": [],
   "source": [
    "house[\"Exterior1st\"].fillna(value=\"VinylSd\",inplace=True)"
   ]
  },
  {
   "cell_type": "code",
   "execution_count": 229,
   "id": "5820ac58",
   "metadata": {},
   "outputs": [],
   "source": [
    "house[\"Exterior2nd\"].fillna(value=\"VinylSd\",inplace=True)"
   ]
  },
  {
   "cell_type": "code",
   "execution_count": 230,
   "id": "9e1cb0f1",
   "metadata": {},
   "outputs": [
    {
     "data": {
      "text/plain": [
       "None       888\n",
       "BrkFace    439\n",
       "Stone      121\n",
       "BrkCmn      10\n",
       "Name: MasVnrType, dtype: int64"
      ]
     },
     "execution_count": 230,
     "metadata": {},
     "output_type": "execute_result"
    }
   ],
   "source": [
    "house['MasVnrType'].value_counts()"
   ]
  },
  {
   "cell_type": "code",
   "execution_count": 231,
   "id": "78d606f0",
   "metadata": {},
   "outputs": [],
   "source": [
    "house[\"MasVnrType\"].fillna(value=\"None\",inplace=True)"
   ]
  },
  {
   "cell_type": "code",
   "execution_count": 232,
   "id": "7683b970",
   "metadata": {},
   "outputs": [],
   "source": [
    "house[\"BsmtFinSF1\"].fillna(value=0,inplace=True)"
   ]
  },
  {
   "cell_type": "code",
   "execution_count": 233,
   "id": "54872ca8",
   "metadata": {},
   "outputs": [],
   "source": [
    "house[\"BsmtFinSF2\"].fillna(value=0,inplace=True)"
   ]
  },
  {
   "cell_type": "code",
   "execution_count": 234,
   "id": "a817b90e",
   "metadata": {},
   "outputs": [],
   "source": [
    "house[\"BsmtUnfSF\"].fillna(value=0,inplace=True)"
   ]
  },
  {
   "cell_type": "code",
   "execution_count": 235,
   "id": "11acfe9b",
   "metadata": {},
   "outputs": [],
   "source": [
    "house[\"TotalBsmtSF\"].fillna(value=0,inplace=True)"
   ]
  },
  {
   "cell_type": "code",
   "execution_count": 236,
   "id": "02520b39",
   "metadata": {},
   "outputs": [],
   "source": [
    "house[\"BsmtFullBath\"].fillna(value=0,inplace=True)"
   ]
  },
  {
   "cell_type": "code",
   "execution_count": 237,
   "id": "cbbd67b9",
   "metadata": {},
   "outputs": [],
   "source": [
    "house[\"BsmtHalfBath\"].fillna(value=0,inplace=True)"
   ]
  },
  {
   "cell_type": "code",
   "execution_count": 238,
   "id": "48819d2a",
   "metadata": {},
   "outputs": [],
   "source": [
    "house[\"KitchenQual\"].fillna(value=\"TA\",inplace=True)"
   ]
  },
  {
   "cell_type": "code",
   "execution_count": 239,
   "id": "65c23d6d",
   "metadata": {},
   "outputs": [],
   "source": [
    "house[\"Functional\"].fillna(value=\"Sal\",inplace=True)"
   ]
  },
  {
   "cell_type": "code",
   "execution_count": 240,
   "id": "db94e5b3",
   "metadata": {},
   "outputs": [],
   "source": [
    "house[\"GarageCars\"].fillna(value=0,inplace=True)"
   ]
  },
  {
   "cell_type": "code",
   "execution_count": 241,
   "id": "57d8fd36",
   "metadata": {},
   "outputs": [],
   "source": [
    "house[\"GarageArea\"].fillna(value=0,inplace=True)"
   ]
  },
  {
   "cell_type": "code",
   "execution_count": 242,
   "id": "ca6afe2e",
   "metadata": {},
   "outputs": [
    {
     "data": {
      "text/plain": [
       "WD       1258\n",
       "New       117\n",
       "COD        44\n",
       "ConLD      17\n",
       "CWD         8\n",
       "Oth         4\n",
       "ConLI       4\n",
       "Con         3\n",
       "ConLw       3\n",
       "Name: SaleType, dtype: int64"
      ]
     },
     "execution_count": 242,
     "metadata": {},
     "output_type": "execute_result"
    }
   ],
   "source": [
    "house[\"SaleType\"].value_counts()"
   ]
  },
  {
   "cell_type": "code",
   "execution_count": 243,
   "id": "8c6b0cc4",
   "metadata": {},
   "outputs": [],
   "source": [
    "house[\"SaleType\"].fillna(value=\"WD\",inplace=True)"
   ]
  },
  {
   "cell_type": "code",
   "execution_count": 244,
   "id": "c1be59b1",
   "metadata": {},
   "outputs": [],
   "source": [
    "null_columns=house.columns[house.isnull().any()]"
   ]
  },
  {
   "cell_type": "code",
   "execution_count": 245,
   "id": "93eee4d7",
   "metadata": {},
   "outputs": [
    {
     "data": {
      "text/plain": [
       "MSZoning    4\n",
       "dtype: int64"
      ]
     },
     "execution_count": 245,
     "metadata": {},
     "output_type": "execute_result"
    }
   ],
   "source": [
    "house[null_columns].isnull().sum()"
   ]
  },
  {
   "cell_type": "code",
   "execution_count": 246,
   "id": "60862f1d",
   "metadata": {},
   "outputs": [
    {
     "data": {
      "text/plain": [
       "RL         1114\n",
       "RM          242\n",
       "FV           74\n",
       "C (all)      15\n",
       "RH           10\n",
       "Name: MSZoning, dtype: int64"
      ]
     },
     "execution_count": 246,
     "metadata": {},
     "output_type": "execute_result"
    }
   ],
   "source": [
    "house[\"MSZoning\"].value_counts()"
   ]
  },
  {
   "cell_type": "code",
   "execution_count": 247,
   "id": "27f79196",
   "metadata": {},
   "outputs": [],
   "source": [
    "house[\"MSZoning\"].fillna(value=\"RL\",inplace=True)"
   ]
  },
  {
   "cell_type": "code",
   "execution_count": 248,
   "id": "5003b440",
   "metadata": {},
   "outputs": [
    {
     "data": {
      "text/plain": [
       "MSZoning    0\n",
       "dtype: int64"
      ]
     },
     "execution_count": 248,
     "metadata": {},
     "output_type": "execute_result"
    }
   ],
   "source": [
    "house[null_columns].isnull().sum()"
   ]
  },
  {
   "cell_type": "code",
   "execution_count": 249,
   "id": "5120ccbc",
   "metadata": {},
   "outputs": [],
   "source": [
    "house.to_excel(\"future_cleaned_1.xlsx\",sheet_name='cleaned_1')"
   ]
  },
  {
   "cell_type": "code",
   "execution_count": 250,
   "id": "49d81793",
   "metadata": {},
   "outputs": [
    {
     "data": {
      "text/plain": [
       "array(['NAmes', 'Gilbert', 'StoneBr', 'BrDale', 'NPkVill', 'NridgHt',\n",
       "       'Blmngtn', 'NoRidge', 'Somerst', 'SawyerW', 'Sawyer', 'NWAmes',\n",
       "       'OldTown', 'BrkSide', 'ClearCr', 'SWISU', 'Edwards', 'CollgCr',\n",
       "       'Crawfor', 'Blueste', 'IDOTRR', 'Mitchel', 'Timber', 'MeadowV',\n",
       "       'Veenker'], dtype=object)"
      ]
     },
     "execution_count": 250,
     "metadata": {},
     "output_type": "execute_result"
    }
   ],
   "source": [
    "house[\"Neighborhood\"].unique()"
   ]
  },
  {
   "cell_type": "code",
   "execution_count": 251,
   "id": "7e7a66b1",
   "metadata": {},
   "outputs": [
    {
     "data": {
      "text/plain": [
       "array([ 20,  60, 120, 160,  80,  30,  50,  90,  85, 190,  45,  70,  75,\n",
       "       180,  40, 150], dtype=int64)"
      ]
     },
     "execution_count": 251,
     "metadata": {},
     "output_type": "execute_result"
    }
   ],
   "source": [
    "house[\"MSSubClass\"].unique()"
   ]
  },
  {
   "cell_type": "code",
   "execution_count": 252,
   "id": "fe47df15",
   "metadata": {},
   "outputs": [
    {
     "data": {
      "text/plain": [
       "array(['RH', 'RL', 'RM', 'FV', 'C (all)'], dtype=object)"
      ]
     },
     "execution_count": 252,
     "metadata": {},
     "output_type": "execute_result"
    }
   ],
   "source": [
    "house[\"MSZoning\"].unique()"
   ]
  },
  {
   "cell_type": "code",
   "execution_count": 253,
   "id": "5e739d60",
   "metadata": {},
   "outputs": [],
   "source": [
    "house[\"MSZoning\"] = np.where(house[\"MSZoning\"] == \"C (all)\", \"C\", house[\"MSZoning\"])"
   ]
  },
  {
   "cell_type": "code",
   "execution_count": 254,
   "id": "db2ac40f",
   "metadata": {},
   "outputs": [
    {
     "data": {
      "text/plain": [
       "array(['RH', 'RL', 'RM', 'FV', 'C'], dtype=object)"
      ]
     },
     "execution_count": 254,
     "metadata": {},
     "output_type": "execute_result"
    }
   ],
   "source": [
    "house[\"MSZoning\"].unique()"
   ]
  },
  {
   "cell_type": "code",
   "execution_count": 255,
   "id": "4e6d05a9",
   "metadata": {},
   "outputs": [
    {
     "data": {
      "text/plain": [
       "array(['Pave', 'Grvl'], dtype=object)"
      ]
     },
     "execution_count": 255,
     "metadata": {},
     "output_type": "execute_result"
    }
   ],
   "source": [
    "house[\"Street\"].unique()"
   ]
  },
  {
   "cell_type": "code",
   "execution_count": 256,
   "id": "9d2b2fdd",
   "metadata": {},
   "outputs": [
    {
     "data": {
      "text/plain": [
       "array(['No Alley Access', 'Pave', 'Grvl'], dtype=object)"
      ]
     },
     "execution_count": 256,
     "metadata": {},
     "output_type": "execute_result"
    }
   ],
   "source": [
    "house[\"Alley\"].unique()"
   ]
  },
  {
   "cell_type": "code",
   "execution_count": 257,
   "id": "e2d6d8e5",
   "metadata": {},
   "outputs": [
    {
     "data": {
      "text/plain": [
       "array(['Reg', 'IR1', 'IR2', 'IR3'], dtype=object)"
      ]
     },
     "execution_count": 257,
     "metadata": {},
     "output_type": "execute_result"
    }
   ],
   "source": [
    "house[\"LotShape\"].unique()"
   ]
  },
  {
   "cell_type": "code",
   "execution_count": 258,
   "id": "14416f8d",
   "metadata": {},
   "outputs": [
    {
     "data": {
      "text/plain": [
       "array(['Lvl', 'HLS', 'Bnk', 'Low'], dtype=object)"
      ]
     },
     "execution_count": 258,
     "metadata": {},
     "output_type": "execute_result"
    }
   ],
   "source": [
    "house[\"LandContour\"].unique()"
   ]
  },
  {
   "cell_type": "code",
   "execution_count": 259,
   "id": "27e6b089",
   "metadata": {},
   "outputs": [
    {
     "data": {
      "text/plain": [
       "array(['AllPub', 'ELO'], dtype=object)"
      ]
     },
     "execution_count": 259,
     "metadata": {},
     "output_type": "execute_result"
    }
   ],
   "source": [
    "house[\"Utilities\"].unique()"
   ]
  },
  {
   "cell_type": "code",
   "execution_count": 260,
   "id": "083ae3da",
   "metadata": {},
   "outputs": [
    {
     "data": {
      "text/plain": [
       "array(['Inside', 'Corner', 'FR2', 'CulDSac', 'FR3'], dtype=object)"
      ]
     },
     "execution_count": 260,
     "metadata": {},
     "output_type": "execute_result"
    }
   ],
   "source": [
    "house[\"LotConfig\"].unique()"
   ]
  },
  {
   "cell_type": "code",
   "execution_count": 261,
   "id": "736bd91d",
   "metadata": {},
   "outputs": [
    {
     "data": {
      "text/plain": [
       "array(['Gtl', 'Mod', 'Sev'], dtype=object)"
      ]
     },
     "execution_count": 261,
     "metadata": {},
     "output_type": "execute_result"
    }
   ],
   "source": [
    "house[\"LandSlope\"].unique()"
   ]
  },
  {
   "cell_type": "code",
   "execution_count": 262,
   "id": "47584431",
   "metadata": {},
   "outputs": [
    {
     "data": {
      "text/plain": [
       "array(['NAmes', 'Gilbert', 'StoneBr', 'BrDale', 'NPkVill', 'NridgHt',\n",
       "       'Blmngtn', 'NoRidge', 'Somerst', 'SawyerW', 'Sawyer', 'NWAmes',\n",
       "       'OldTown', 'BrkSide', 'ClearCr', 'SWISU', 'Edwards', 'CollgCr',\n",
       "       'Crawfor', 'Blueste', 'IDOTRR', 'Mitchel', 'Timber', 'MeadowV',\n",
       "       'Veenker'], dtype=object)"
      ]
     },
     "execution_count": 262,
     "metadata": {},
     "output_type": "execute_result"
    }
   ],
   "source": [
    "house[\"Neighborhood\"].unique()"
   ]
  },
  {
   "cell_type": "code",
   "execution_count": 263,
   "id": "95bd794f",
   "metadata": {},
   "outputs": [],
   "source": [
    "house[\"Neighborhood\"] = np.where(house[\"Neighborhood\"] == \"NAmes\", \"C\", house[\"Neighborhood\"])"
   ]
  },
  {
   "cell_type": "code",
   "execution_count": 264,
   "id": "39711c61",
   "metadata": {},
   "outputs": [],
   "source": [
    "house[\"Neighborhood\"] = np.where(house[\"Neighborhood\"] == \"C\", \"Names\", house[\"Neighborhood\"])"
   ]
  },
  {
   "cell_type": "code",
   "execution_count": 265,
   "id": "a0d2a6d9",
   "metadata": {},
   "outputs": [
    {
     "data": {
      "text/plain": [
       "array(['Names', 'Gilbert', 'StoneBr', 'BrDale', 'NPkVill', 'NridgHt',\n",
       "       'Blmngtn', 'NoRidge', 'Somerst', 'SawyerW', 'Sawyer', 'NWAmes',\n",
       "       'OldTown', 'BrkSide', 'ClearCr', 'SWISU', 'Edwards', 'CollgCr',\n",
       "       'Crawfor', 'Blueste', 'IDOTRR', 'Mitchel', 'Timber', 'MeadowV',\n",
       "       'Veenker'], dtype=object)"
      ]
     },
     "execution_count": 265,
     "metadata": {},
     "output_type": "execute_result"
    }
   ],
   "source": [
    "house[\"Neighborhood\"].unique()"
   ]
  },
  {
   "cell_type": "code",
   "execution_count": 266,
   "id": "db843845",
   "metadata": {},
   "outputs": [
    {
     "data": {
      "text/plain": [
       "array(['Feedr', 'Norm', 'PosN', 'RRNe', 'Artery', 'RRNn', 'PosA', 'RRAn',\n",
       "       'RRAe'], dtype=object)"
      ]
     },
     "execution_count": 266,
     "metadata": {},
     "output_type": "execute_result"
    }
   ],
   "source": [
    "house[\"Condition1\"].unique()"
   ]
  },
  {
   "cell_type": "code",
   "execution_count": 267,
   "id": "1434c587",
   "metadata": {},
   "outputs": [
    {
     "data": {
      "text/plain": [
       "array(['Norm', 'Feedr', 'PosA', 'PosN', 'Artery'], dtype=object)"
      ]
     },
     "execution_count": 267,
     "metadata": {},
     "output_type": "execute_result"
    }
   ],
   "source": [
    "house[\"Condition2\"].unique()"
   ]
  },
  {
   "cell_type": "code",
   "execution_count": 268,
   "id": "d5b8159d",
   "metadata": {},
   "outputs": [
    {
     "data": {
      "text/plain": [
       "array(['1Fam', 'TwnhsE', 'Twnhs', 'Duplex', '2fmCon'], dtype=object)"
      ]
     },
     "execution_count": 268,
     "metadata": {},
     "output_type": "execute_result"
    }
   ],
   "source": [
    "house[\"BldgType\"].unique()"
   ]
  },
  {
   "cell_type": "code",
   "execution_count": 269,
   "id": "824364a9",
   "metadata": {},
   "outputs": [],
   "source": [
    "house[\"BldgType\"] = np.where(house[\"BldgType\"] == \"2fmCon\", \"2FmCon\", house[\"BldgType\"])"
   ]
  },
  {
   "cell_type": "code",
   "execution_count": 270,
   "id": "91836bcf",
   "metadata": {},
   "outputs": [],
   "source": [
    "house[\"BldgType\"] = np.where(house[\"BldgType\"] == \"Duplex\", \"Duplx\", house[\"BldgType\"])\n",
    "house[\"BldgType\"] = np.where(house[\"BldgType\"] == \"Twnhs\", \"TwnhsI\", house[\"BldgType\"])"
   ]
  },
  {
   "cell_type": "code",
   "execution_count": 271,
   "id": "23ccc4be",
   "metadata": {},
   "outputs": [
    {
     "data": {
      "text/plain": [
       "array(['1Fam', 'TwnhsE', 'TwnhsI', 'Duplx', '2FmCon'], dtype=object)"
      ]
     },
     "execution_count": 271,
     "metadata": {},
     "output_type": "execute_result"
    }
   ],
   "source": [
    "house[\"BldgType\"].unique()"
   ]
  },
  {
   "cell_type": "code",
   "execution_count": 272,
   "id": "7883921d",
   "metadata": {},
   "outputs": [
    {
     "data": {
      "text/plain": [
       "array(['1Story', '2Story', 'SLvl', '1.5Fin', 'SFoyer', '2.5Unf', '1.5Unf'],\n",
       "      dtype=object)"
      ]
     },
     "execution_count": 272,
     "metadata": {},
     "output_type": "execute_result"
    }
   ],
   "source": [
    "house[\"HouseStyle\"].unique()"
   ]
  },
  {
   "cell_type": "code",
   "execution_count": 273,
   "id": "f1c1d7db",
   "metadata": {},
   "outputs": [
    {
     "data": {
      "text/plain": [
       "array(['Gable', 'Hip', 'Gambrel', 'Flat', 'Mansard', 'Shed'], dtype=object)"
      ]
     },
     "execution_count": 273,
     "metadata": {},
     "output_type": "execute_result"
    }
   ],
   "source": [
    "house[\"RoofStyle\"].unique()"
   ]
  },
  {
   "cell_type": "code",
   "execution_count": 274,
   "id": "38a69289",
   "metadata": {},
   "outputs": [
    {
     "data": {
      "text/plain": [
       "array(['CompShg', 'Tar&Grv', 'WdShake', 'WdShngl'], dtype=object)"
      ]
     },
     "execution_count": 274,
     "metadata": {},
     "output_type": "execute_result"
    }
   ],
   "source": [
    "house[\"RoofMatl\"].unique()"
   ]
  },
  {
   "cell_type": "code",
   "execution_count": 275,
   "id": "e71cb0d6",
   "metadata": {},
   "outputs": [
    {
     "data": {
      "text/plain": [
       "array(['VinylSd', 'Wd Sdng', 'HdBoard', 'Plywood', 'MetalSd', 'CemntBd',\n",
       "       'WdShing', 'BrkFace', 'AsbShng', 'BrkComm', 'Stucco', 'AsphShn',\n",
       "       'CBlock'], dtype=object)"
      ]
     },
     "execution_count": 275,
     "metadata": {},
     "output_type": "execute_result"
    }
   ],
   "source": [
    "house[\"Exterior1st\"].unique()"
   ]
  },
  {
   "cell_type": "code",
   "execution_count": 276,
   "id": "e3a5dc79",
   "metadata": {},
   "outputs": [
    {
     "data": {
      "text/plain": [
       "array(['VinylSd', 'Wd Sdng', 'HdBoard', 'Plywood', 'MetalSd', 'Brk Cmn',\n",
       "       'CmentBd', 'ImStucc', 'Wd Shng', 'AsbShng', 'Stucco', 'CBlock',\n",
       "       'BrkFace', 'AsphShn', 'Stone'], dtype=object)"
      ]
     },
     "execution_count": 276,
     "metadata": {},
     "output_type": "execute_result"
    }
   ],
   "source": [
    "house[\"Exterior2nd\"].unique()"
   ]
  },
  {
   "cell_type": "code",
   "execution_count": 277,
   "id": "ac63bc72",
   "metadata": {},
   "outputs": [],
   "source": [
    "house[\"Exterior2nd\"] = np.where(house[\"Exterior2nd\"] == \"Wd Shng\", \"Wd Sdng\", house[\"Exterior2nd\"])"
   ]
  },
  {
   "cell_type": "code",
   "execution_count": 278,
   "id": "bc958d14",
   "metadata": {},
   "outputs": [],
   "source": [
    "house[\"Exterior2nd\"] = np.where(house[\"Exterior2nd\"] == \"CmentBd\", \"CemntBd\", house[\"Exterior2nd\"])\n",
    "house[\"Exterior2nd\"] = np.where(house[\"Exterior2nd\"] == \"Brk Cmn\", \"BrkComm\", house[\"Exterior2nd\"])"
   ]
  },
  {
   "cell_type": "code",
   "execution_count": 279,
   "id": "4bd7f436",
   "metadata": {},
   "outputs": [
    {
     "data": {
      "text/plain": [
       "array(['VinylSd', 'Wd Sdng', 'HdBoard', 'Plywood', 'MetalSd', 'BrkComm',\n",
       "       'CemntBd', 'ImStucc', 'AsbShng', 'Stucco', 'CBlock', 'BrkFace',\n",
       "       'AsphShn', 'Stone'], dtype=object)"
      ]
     },
     "execution_count": 279,
     "metadata": {},
     "output_type": "execute_result"
    }
   ],
   "source": [
    "house[\"Exterior2nd\"].unique()"
   ]
  },
  {
   "cell_type": "code",
   "execution_count": 280,
   "id": "b373d54c",
   "metadata": {},
   "outputs": [
    {
     "data": {
      "text/plain": [
       "array(['TA', 'Gd', 'Ex', 'Fa'], dtype=object)"
      ]
     },
     "execution_count": 280,
     "metadata": {},
     "output_type": "execute_result"
    }
   ],
   "source": [
    "house[\"ExterQual\"].unique()"
   ]
  },
  {
   "cell_type": "code",
   "execution_count": 281,
   "id": "88a61a10",
   "metadata": {},
   "outputs": [
    {
     "data": {
      "text/plain": [
       "array(['TA', 'Gd', 'Fa', 'Po', 'Ex'], dtype=object)"
      ]
     },
     "execution_count": 281,
     "metadata": {},
     "output_type": "execute_result"
    }
   ],
   "source": [
    "house[\"ExterCond\"].unique()"
   ]
  },
  {
   "cell_type": "code",
   "execution_count": 282,
   "id": "39342494",
   "metadata": {},
   "outputs": [
    {
     "data": {
      "text/plain": [
       "array(['CBlock', 'PConc', 'BrkTil', 'Stone', 'Slab', 'Wood'], dtype=object)"
      ]
     },
     "execution_count": 282,
     "metadata": {},
     "output_type": "execute_result"
    }
   ],
   "source": [
    "house[\"Foundation\"].unique()"
   ]
  },
  {
   "cell_type": "code",
   "execution_count": 283,
   "id": "99be524e",
   "metadata": {},
   "outputs": [
    {
     "data": {
      "text/plain": [
       "array(['TA', 'Gd', 'Ex', 'Fa', 'No Basement'], dtype=object)"
      ]
     },
     "execution_count": 283,
     "metadata": {},
     "output_type": "execute_result"
    }
   ],
   "source": [
    "house[\"BsmtQual\"].unique()"
   ]
  },
  {
   "cell_type": "code",
   "execution_count": 284,
   "id": "6f8471b4",
   "metadata": {},
   "outputs": [
    {
     "data": {
      "text/plain": [
       "array(['TA', 'Po', 'Fa', 'Gd', 'No Basement'], dtype=object)"
      ]
     },
     "execution_count": 284,
     "metadata": {},
     "output_type": "execute_result"
    }
   ],
   "source": [
    "house[\"BsmtCond\"].unique()"
   ]
  },
  {
   "cell_type": "code",
   "execution_count": 285,
   "id": "97678354",
   "metadata": {},
   "outputs": [
    {
     "data": {
      "text/plain": [
       "array(['No', 'Gd', 'Mn', 'Av', 'No Basement'], dtype=object)"
      ]
     },
     "execution_count": 285,
     "metadata": {},
     "output_type": "execute_result"
    }
   ],
   "source": [
    "house[\"BsmtExposure\"].unique()"
   ]
  },
  {
   "cell_type": "code",
   "execution_count": 286,
   "id": "82a9dc75",
   "metadata": {},
   "outputs": [
    {
     "data": {
      "text/plain": [
       "array(['Rec', 'ALQ', 'GLQ', 'Unf', 'BLQ', 'LwQ', 'No Basement'],\n",
       "      dtype=object)"
      ]
     },
     "execution_count": 286,
     "metadata": {},
     "output_type": "execute_result"
    }
   ],
   "source": [
    "house[\"BsmtFinType1\"].unique()"
   ]
  },
  {
   "cell_type": "code",
   "execution_count": 287,
   "id": "899f3775",
   "metadata": {},
   "outputs": [
    {
     "data": {
      "text/plain": [
       "array(['LwQ', 'Unf', 'Rec', 'BLQ', 'GLQ', 'ALQ', 'No Basement'],\n",
       "      dtype=object)"
      ]
     },
     "execution_count": 287,
     "metadata": {},
     "output_type": "execute_result"
    }
   ],
   "source": [
    "house[\"BsmtFinType2\"].unique()"
   ]
  },
  {
   "cell_type": "code",
   "execution_count": 288,
   "id": "068356d9",
   "metadata": {},
   "outputs": [
    {
     "data": {
      "text/plain": [
       "array(['GasA', 'GasW', 'Grav', 'Wall'], dtype=object)"
      ]
     },
     "execution_count": 288,
     "metadata": {},
     "output_type": "execute_result"
    }
   ],
   "source": [
    "house[\"Heating\"].unique()"
   ]
  },
  {
   "cell_type": "code",
   "execution_count": 289,
   "id": "17fe8fe8",
   "metadata": {},
   "outputs": [
    {
     "data": {
      "text/plain": [
       "array(['TA', 'Gd', 'Ex', 'Fa', 'Po'], dtype=object)"
      ]
     },
     "execution_count": 289,
     "metadata": {},
     "output_type": "execute_result"
    }
   ],
   "source": [
    "house[\"HeatingQC\"].unique()"
   ]
  },
  {
   "cell_type": "code",
   "execution_count": 290,
   "id": "872775b7",
   "metadata": {},
   "outputs": [
    {
     "data": {
      "text/plain": [
       "array(['Y', 'N'], dtype=object)"
      ]
     },
     "execution_count": 290,
     "metadata": {},
     "output_type": "execute_result"
    }
   ],
   "source": [
    "house[\"CentralAir\"].unique()"
   ]
  },
  {
   "cell_type": "code",
   "execution_count": 291,
   "id": "8df841a8",
   "metadata": {},
   "outputs": [
    {
     "data": {
      "text/plain": [
       "array(['SBrkr', 'FuseA', 'FuseF', 'FuseP'], dtype=object)"
      ]
     },
     "execution_count": 291,
     "metadata": {},
     "output_type": "execute_result"
    }
   ],
   "source": [
    "house[\"Electrical\"].unique()"
   ]
  },
  {
   "cell_type": "code",
   "execution_count": 292,
   "id": "9c4c14f5",
   "metadata": {},
   "outputs": [
    {
     "data": {
      "text/plain": [
       "array(['TA', 'Gd', 'Ex', 'Fa'], dtype=object)"
      ]
     },
     "execution_count": 292,
     "metadata": {},
     "output_type": "execute_result"
    }
   ],
   "source": [
    "house[\"KitchenQual\"].unique()"
   ]
  },
  {
   "cell_type": "code",
   "execution_count": 293,
   "id": "5985c45d",
   "metadata": {},
   "outputs": [
    {
     "data": {
      "text/plain": [
       "array(['Typ', 'Min2', 'Min1', 'Mod', 'Maj1', 'Sev', 'Maj2', 'Sal'],\n",
       "      dtype=object)"
      ]
     },
     "execution_count": 293,
     "metadata": {},
     "output_type": "execute_result"
    }
   ],
   "source": [
    "house[\"Functional\"].unique()"
   ]
  },
  {
   "cell_type": "code",
   "execution_count": 294,
   "id": "90d819a2",
   "metadata": {},
   "outputs": [
    {
     "data": {
      "text/plain": [
       "array(['No Fireplace', 'TA', 'Gd', 'Po', 'Fa', 'Ex'], dtype=object)"
      ]
     },
     "execution_count": 294,
     "metadata": {},
     "output_type": "execute_result"
    }
   ],
   "source": [
    "house[\"FireplaceQu\"].unique()"
   ]
  },
  {
   "cell_type": "code",
   "execution_count": 295,
   "id": "9c2cea13",
   "metadata": {},
   "outputs": [
    {
     "data": {
      "text/plain": [
       "array(['Attchd', 'Detchd', 'BuiltIn', 'No Garage', 'Basment', '2Types',\n",
       "       'CarPort'], dtype=object)"
      ]
     },
     "execution_count": 295,
     "metadata": {},
     "output_type": "execute_result"
    }
   ],
   "source": [
    "house[\"GarageType\"].unique()"
   ]
  },
  {
   "cell_type": "code",
   "execution_count": 296,
   "id": "93b93aa1",
   "metadata": {},
   "outputs": [
    {
     "data": {
      "text/plain": [
       "array(['Unf', 'Fin', 'RFn', 'No Garage'], dtype=object)"
      ]
     },
     "execution_count": 296,
     "metadata": {},
     "output_type": "execute_result"
    }
   ],
   "source": [
    "house[\"GarageFinish\"].unique()"
   ]
  },
  {
   "cell_type": "code",
   "execution_count": 297,
   "id": "3275b168",
   "metadata": {},
   "outputs": [
    {
     "data": {
      "text/plain": [
       "array(['TA', 'No Garage', 'Fa', 'Gd', 'Po'], dtype=object)"
      ]
     },
     "execution_count": 297,
     "metadata": {},
     "output_type": "execute_result"
    }
   ],
   "source": [
    "house[\"GarageQual\"].unique()"
   ]
  },
  {
   "cell_type": "code",
   "execution_count": 298,
   "id": "ea8e4986",
   "metadata": {},
   "outputs": [
    {
     "data": {
      "text/plain": [
       "array(['TA', 'No Garage', 'Fa', 'Gd', 'Po', 'Ex'], dtype=object)"
      ]
     },
     "execution_count": 298,
     "metadata": {},
     "output_type": "execute_result"
    }
   ],
   "source": [
    "house[\"GarageCond\"].unique()"
   ]
  },
  {
   "cell_type": "code",
   "execution_count": 299,
   "id": "adf1cead",
   "metadata": {},
   "outputs": [
    {
     "data": {
      "text/plain": [
       "array(['Y', 'N', 'P'], dtype=object)"
      ]
     },
     "execution_count": 299,
     "metadata": {},
     "output_type": "execute_result"
    }
   ],
   "source": [
    "house[\"PavedDrive\"].unique()"
   ]
  },
  {
   "cell_type": "code",
   "execution_count": 300,
   "id": "405de3d5",
   "metadata": {},
   "outputs": [
    {
     "data": {
      "text/plain": [
       "array(['No Pool', 'Ex', 'Gd'], dtype=object)"
      ]
     },
     "execution_count": 300,
     "metadata": {},
     "output_type": "execute_result"
    }
   ],
   "source": [
    "house[\"PoolQC\"].unique()"
   ]
  },
  {
   "cell_type": "code",
   "execution_count": 301,
   "id": "9cb14d5a",
   "metadata": {},
   "outputs": [
    {
     "data": {
      "text/plain": [
       "array(['MnPrv', 'No Fence', 'GdPrv', 'GdWo', 'MnWw'], dtype=object)"
      ]
     },
     "execution_count": 301,
     "metadata": {},
     "output_type": "execute_result"
    }
   ],
   "source": [
    "house[\"Fence\"].unique()"
   ]
  },
  {
   "cell_type": "code",
   "execution_count": 302,
   "id": "9165d034",
   "metadata": {},
   "outputs": [
    {
     "data": {
      "text/plain": [
       "array(['None', 'Gar2', 'Shed', 'Othr'], dtype=object)"
      ]
     },
     "execution_count": 302,
     "metadata": {},
     "output_type": "execute_result"
    }
   ],
   "source": [
    "house[\"MiscFeature\"].unique()"
   ]
  },
  {
   "cell_type": "code",
   "execution_count": 303,
   "id": "921a1040",
   "metadata": {},
   "outputs": [
    {
     "data": {
      "text/plain": [
       "array(['WD', 'COD', 'New', 'ConLD', 'Oth', 'Con', 'ConLw', 'ConLI', 'CWD'],\n",
       "      dtype=object)"
      ]
     },
     "execution_count": 303,
     "metadata": {},
     "output_type": "execute_result"
    }
   ],
   "source": [
    "house[\"SaleType\"].unique()"
   ]
  },
  {
   "cell_type": "code",
   "execution_count": 304,
   "id": "74c0815b",
   "metadata": {},
   "outputs": [
    {
     "data": {
      "text/plain": [
       "array(['Normal', 'Partial', 'Abnorml', 'Family', 'Alloca', 'AdjLand'],\n",
       "      dtype=object)"
      ]
     },
     "execution_count": 304,
     "metadata": {},
     "output_type": "execute_result"
    }
   ],
   "source": [
    "house[\"SaleCondition\"].unique()"
   ]
  },
  {
   "cell_type": "code",
   "execution_count": 305,
   "id": "d2257531",
   "metadata": {},
   "outputs": [],
   "source": [
    "TotalBathroomsBasement=(1*house[\"BsmtFullBath\"])+(0.5*house[\"BsmtHalfBath\"])"
   ]
  },
  {
   "cell_type": "code",
   "execution_count": 306,
   "id": "9698cadd",
   "metadata": {},
   "outputs": [],
   "source": [
    "house.insert(50,\"TotalBathBasement\",TotalBathroomsBasement)"
   ]
  },
  {
   "cell_type": "code",
   "execution_count": 307,
   "id": "a9f501b1",
   "metadata": {},
   "outputs": [
    {
     "data": {
      "text/plain": [
       "array([0. , 1. , 0.5, 2. , 1.5, 3. ])"
      ]
     },
     "execution_count": 307,
     "metadata": {},
     "output_type": "execute_result"
    }
   ],
   "source": [
    "house[\"TotalBathBasement\"].unique()"
   ]
  },
  {
   "cell_type": "code",
   "execution_count": 308,
   "id": "897ea52d",
   "metadata": {},
   "outputs": [
    {
     "data": {
      "text/html": [
       "<div>\n",
       "<style scoped>\n",
       "    .dataframe tbody tr th:only-of-type {\n",
       "        vertical-align: middle;\n",
       "    }\n",
       "\n",
       "    .dataframe tbody tr th {\n",
       "        vertical-align: top;\n",
       "    }\n",
       "\n",
       "    .dataframe thead th {\n",
       "        text-align: right;\n",
       "    }\n",
       "</style>\n",
       "<table border=\"1\" class=\"dataframe\">\n",
       "  <thead>\n",
       "    <tr style=\"text-align: right;\">\n",
       "      <th></th>\n",
       "      <th>LowQualFinSF</th>\n",
       "      <th>GrLivArea</th>\n",
       "      <th>BsmtFullBath</th>\n",
       "      <th>BsmtHalfBath</th>\n",
       "      <th>FullBath</th>\n",
       "      <th>TotalBathBasement</th>\n",
       "      <th>HalfBath</th>\n",
       "    </tr>\n",
       "  </thead>\n",
       "  <tbody>\n",
       "    <tr>\n",
       "      <th>0</th>\n",
       "      <td>0</td>\n",
       "      <td>896</td>\n",
       "      <td>0.0</td>\n",
       "      <td>0.0</td>\n",
       "      <td>1</td>\n",
       "      <td>0.0</td>\n",
       "      <td>0</td>\n",
       "    </tr>\n",
       "    <tr>\n",
       "      <th>1</th>\n",
       "      <td>0</td>\n",
       "      <td>1329</td>\n",
       "      <td>0.0</td>\n",
       "      <td>0.0</td>\n",
       "      <td>1</td>\n",
       "      <td>0.0</td>\n",
       "      <td>1</td>\n",
       "    </tr>\n",
       "    <tr>\n",
       "      <th>2</th>\n",
       "      <td>0</td>\n",
       "      <td>1629</td>\n",
       "      <td>0.0</td>\n",
       "      <td>0.0</td>\n",
       "      <td>2</td>\n",
       "      <td>0.0</td>\n",
       "      <td>1</td>\n",
       "    </tr>\n",
       "    <tr>\n",
       "      <th>3</th>\n",
       "      <td>0</td>\n",
       "      <td>1604</td>\n",
       "      <td>0.0</td>\n",
       "      <td>0.0</td>\n",
       "      <td>2</td>\n",
       "      <td>0.0</td>\n",
       "      <td>1</td>\n",
       "    </tr>\n",
       "    <tr>\n",
       "      <th>4</th>\n",
       "      <td>0</td>\n",
       "      <td>1280</td>\n",
       "      <td>0.0</td>\n",
       "      <td>0.0</td>\n",
       "      <td>2</td>\n",
       "      <td>0.0</td>\n",
       "      <td>0</td>\n",
       "    </tr>\n",
       "  </tbody>\n",
       "</table>\n",
       "</div>"
      ],
      "text/plain": [
       "   LowQualFinSF  GrLivArea  BsmtFullBath  BsmtHalfBath  FullBath  \\\n",
       "0             0        896           0.0           0.0         1   \n",
       "1             0       1329           0.0           0.0         1   \n",
       "2             0       1629           0.0           0.0         2   \n",
       "3             0       1604           0.0           0.0         2   \n",
       "4             0       1280           0.0           0.0         2   \n",
       "\n",
       "   TotalBathBasement  HalfBath  \n",
       "0                0.0         0  \n",
       "1                0.0         1  \n",
       "2                0.0         1  \n",
       "3                0.0         1  \n",
       "4                0.0         0  "
      ]
     },
     "execution_count": 308,
     "metadata": {},
     "output_type": "execute_result"
    }
   ],
   "source": [
    "house.iloc[0:5,45:52]"
   ]
  },
  {
   "cell_type": "code",
   "execution_count": 309,
   "id": "8c436956",
   "metadata": {},
   "outputs": [],
   "source": [
    "house=house.drop(\"TotalBathBasement\",axis=1)"
   ]
  },
  {
   "cell_type": "code",
   "execution_count": 310,
   "id": "6bc8e4fe",
   "metadata": {},
   "outputs": [],
   "source": [
    "house.insert(49,\"TotalBathBasement\",TotalBathroomsBasement)"
   ]
  },
  {
   "cell_type": "code",
   "execution_count": 311,
   "id": "2377ff5a",
   "metadata": {},
   "outputs": [
    {
     "data": {
      "text/html": [
       "<div>\n",
       "<style scoped>\n",
       "    .dataframe tbody tr th:only-of-type {\n",
       "        vertical-align: middle;\n",
       "    }\n",
       "\n",
       "    .dataframe tbody tr th {\n",
       "        vertical-align: top;\n",
       "    }\n",
       "\n",
       "    .dataframe thead th {\n",
       "        text-align: right;\n",
       "    }\n",
       "</style>\n",
       "<table border=\"1\" class=\"dataframe\">\n",
       "  <thead>\n",
       "    <tr style=\"text-align: right;\">\n",
       "      <th></th>\n",
       "      <th>LowQualFinSF</th>\n",
       "      <th>GrLivArea</th>\n",
       "      <th>BsmtFullBath</th>\n",
       "      <th>BsmtHalfBath</th>\n",
       "      <th>TotalBathBasement</th>\n",
       "      <th>FullBath</th>\n",
       "      <th>HalfBath</th>\n",
       "    </tr>\n",
       "  </thead>\n",
       "  <tbody>\n",
       "    <tr>\n",
       "      <th>0</th>\n",
       "      <td>0</td>\n",
       "      <td>896</td>\n",
       "      <td>0.0</td>\n",
       "      <td>0.0</td>\n",
       "      <td>0.0</td>\n",
       "      <td>1</td>\n",
       "      <td>0</td>\n",
       "    </tr>\n",
       "    <tr>\n",
       "      <th>1</th>\n",
       "      <td>0</td>\n",
       "      <td>1329</td>\n",
       "      <td>0.0</td>\n",
       "      <td>0.0</td>\n",
       "      <td>0.0</td>\n",
       "      <td>1</td>\n",
       "      <td>1</td>\n",
       "    </tr>\n",
       "    <tr>\n",
       "      <th>2</th>\n",
       "      <td>0</td>\n",
       "      <td>1629</td>\n",
       "      <td>0.0</td>\n",
       "      <td>0.0</td>\n",
       "      <td>0.0</td>\n",
       "      <td>2</td>\n",
       "      <td>1</td>\n",
       "    </tr>\n",
       "    <tr>\n",
       "      <th>3</th>\n",
       "      <td>0</td>\n",
       "      <td>1604</td>\n",
       "      <td>0.0</td>\n",
       "      <td>0.0</td>\n",
       "      <td>0.0</td>\n",
       "      <td>2</td>\n",
       "      <td>1</td>\n",
       "    </tr>\n",
       "    <tr>\n",
       "      <th>4</th>\n",
       "      <td>0</td>\n",
       "      <td>1280</td>\n",
       "      <td>0.0</td>\n",
       "      <td>0.0</td>\n",
       "      <td>0.0</td>\n",
       "      <td>2</td>\n",
       "      <td>0</td>\n",
       "    </tr>\n",
       "  </tbody>\n",
       "</table>\n",
       "</div>"
      ],
      "text/plain": [
       "   LowQualFinSF  GrLivArea  BsmtFullBath  BsmtHalfBath  TotalBathBasement  \\\n",
       "0             0        896           0.0           0.0                0.0   \n",
       "1             0       1329           0.0           0.0                0.0   \n",
       "2             0       1629           0.0           0.0                0.0   \n",
       "3             0       1604           0.0           0.0                0.0   \n",
       "4             0       1280           0.0           0.0                0.0   \n",
       "\n",
       "   FullBath  HalfBath  \n",
       "0         1         0  \n",
       "1         1         1  \n",
       "2         2         1  \n",
       "3         2         1  \n",
       "4         2         0  "
      ]
     },
     "execution_count": 311,
     "metadata": {},
     "output_type": "execute_result"
    }
   ],
   "source": [
    "house.iloc[0:5,45:52]"
   ]
  },
  {
   "cell_type": "code",
   "execution_count": 312,
   "id": "5125cc5e",
   "metadata": {},
   "outputs": [],
   "source": [
    "TotalBathroomsAboveGrade=(1*house[\"FullBath\"])+(0.5*house[\"HalfBath\"])"
   ]
  },
  {
   "cell_type": "code",
   "execution_count": 313,
   "id": "edea6423",
   "metadata": {},
   "outputs": [],
   "source": [
    "house.insert(52,\"TotalBathroomsAboveGrade\",TotalBathroomsAboveGrade)"
   ]
  },
  {
   "cell_type": "code",
   "execution_count": 314,
   "id": "663c87d6",
   "metadata": {},
   "outputs": [],
   "source": [
    "TotalBathrooms=(1*house[\"TotalBathroomsAboveGrade\"])+(1*house[\"TotalBathBasement\"])"
   ]
  },
  {
   "cell_type": "code",
   "execution_count": 315,
   "id": "ce6aba80",
   "metadata": {},
   "outputs": [],
   "source": [
    "house.insert(53,\"TotalBathrooms\",TotalBathrooms)"
   ]
  },
  {
   "cell_type": "code",
   "execution_count": 316,
   "id": "7bcf2c20",
   "metadata": {},
   "outputs": [],
   "source": [
    "TotalRooms=house[\"TotalBathrooms\"]+house[\"BedroomAbvGr\"]+house[\"KitchenAbvGr\"]"
   ]
  },
  {
   "cell_type": "code",
   "execution_count": 317,
   "id": "e9a7502b",
   "metadata": {},
   "outputs": [],
   "source": [
    "house.insert(57,\"TotalRooms\",TotalRooms)"
   ]
  },
  {
   "cell_type": "code",
   "execution_count": 318,
   "id": "395fb280",
   "metadata": {},
   "outputs": [],
   "source": [
    "TotalRooms_bathroomas1=house[\"BsmtFullBath\"]+house[\"BsmtHalfBath\"]+house[\"FullBath\"]+house[\"HalfBath\"]+house[\"BedroomAbvGr\"]+house[\"KitchenAbvGr\"]"
   ]
  },
  {
   "cell_type": "code",
   "execution_count": 319,
   "id": "9125c098",
   "metadata": {},
   "outputs": [],
   "source": [
    "house.insert(58,\"TotalRooms_bathroomas1\",TotalRooms_bathroomas1)"
   ]
  },
  {
   "cell_type": "code",
   "execution_count": 320,
   "id": "6d93ac66",
   "metadata": {},
   "outputs": [],
   "source": [
    "TotalPorchArea=house[\"OpenPorchSF\"]+house[\"EnclosedPorch\"]+house[\"3SsnPorch\"]+house[\"ScreenPorch\"]"
   ]
  },
  {
   "cell_type": "code",
   "execution_count": 321,
   "id": "fd293e5a",
   "metadata": {},
   "outputs": [],
   "source": [
    "house.insert(77,\"TotalPorchArea\",TotalPorchArea)"
   ]
  },
  {
   "cell_type": "code",
   "execution_count": 322,
   "id": "7c4066f1",
   "metadata": {},
   "outputs": [
    {
     "data": {
      "text/html": [
       "<div>\n",
       "<style scoped>\n",
       "    .dataframe tbody tr th:only-of-type {\n",
       "        vertical-align: middle;\n",
       "    }\n",
       "\n",
       "    .dataframe tbody tr th {\n",
       "        vertical-align: top;\n",
       "    }\n",
       "\n",
       "    .dataframe thead th {\n",
       "        text-align: right;\n",
       "    }\n",
       "</style>\n",
       "<table border=\"1\" class=\"dataframe\">\n",
       "  <thead>\n",
       "    <tr style=\"text-align: right;\">\n",
       "      <th></th>\n",
       "      <th>OpenPorchSF</th>\n",
       "      <th>EnclosedPorch</th>\n",
       "      <th>3SsnPorch</th>\n",
       "      <th>ScreenPorch</th>\n",
       "      <th>PoolArea</th>\n",
       "      <th>TotalPorchArea</th>\n",
       "    </tr>\n",
       "  </thead>\n",
       "  <tbody>\n",
       "    <tr>\n",
       "      <th>0</th>\n",
       "      <td>0</td>\n",
       "      <td>0</td>\n",
       "      <td>0</td>\n",
       "      <td>120</td>\n",
       "      <td>0</td>\n",
       "      <td>120</td>\n",
       "    </tr>\n",
       "    <tr>\n",
       "      <th>1</th>\n",
       "      <td>36</td>\n",
       "      <td>0</td>\n",
       "      <td>0</td>\n",
       "      <td>0</td>\n",
       "      <td>0</td>\n",
       "      <td>36</td>\n",
       "    </tr>\n",
       "    <tr>\n",
       "      <th>2</th>\n",
       "      <td>34</td>\n",
       "      <td>0</td>\n",
       "      <td>0</td>\n",
       "      <td>0</td>\n",
       "      <td>0</td>\n",
       "      <td>34</td>\n",
       "    </tr>\n",
       "    <tr>\n",
       "      <th>3</th>\n",
       "      <td>36</td>\n",
       "      <td>0</td>\n",
       "      <td>0</td>\n",
       "      <td>0</td>\n",
       "      <td>0</td>\n",
       "      <td>36</td>\n",
       "    </tr>\n",
       "    <tr>\n",
       "      <th>4</th>\n",
       "      <td>82</td>\n",
       "      <td>0</td>\n",
       "      <td>0</td>\n",
       "      <td>144</td>\n",
       "      <td>0</td>\n",
       "      <td>226</td>\n",
       "    </tr>\n",
       "  </tbody>\n",
       "</table>\n",
       "</div>"
      ],
      "text/plain": [
       "   OpenPorchSF  EnclosedPorch  3SsnPorch  ScreenPorch  PoolArea  \\\n",
       "0            0              0          0          120         0   \n",
       "1           36              0          0            0         0   \n",
       "2           34              0          0            0         0   \n",
       "3           36              0          0            0         0   \n",
       "4           82              0          0          144         0   \n",
       "\n",
       "   TotalPorchArea  \n",
       "0             120  \n",
       "1              36  \n",
       "2              34  \n",
       "3              36  \n",
       "4             226  "
      ]
     },
     "execution_count": 322,
     "metadata": {},
     "output_type": "execute_result"
    }
   ],
   "source": [
    "house.iloc[0:5,72:78]"
   ]
  },
  {
   "cell_type": "code",
   "execution_count": 323,
   "id": "1e65259f",
   "metadata": {},
   "outputs": [],
   "source": [
    "house=house.drop(\"TotalPorchArea\",axis=1)"
   ]
  },
  {
   "cell_type": "code",
   "execution_count": 324,
   "id": "218c57ef",
   "metadata": {},
   "outputs": [],
   "source": [
    "house.insert(76,\"TotalPorchArea\",TotalPorchArea)"
   ]
  },
  {
   "cell_type": "code",
   "execution_count": 325,
   "id": "33acc60a",
   "metadata": {},
   "outputs": [
    {
     "data": {
      "text/html": [
       "<div>\n",
       "<style scoped>\n",
       "    .dataframe tbody tr th:only-of-type {\n",
       "        vertical-align: middle;\n",
       "    }\n",
       "\n",
       "    .dataframe tbody tr th {\n",
       "        vertical-align: top;\n",
       "    }\n",
       "\n",
       "    .dataframe thead th {\n",
       "        text-align: right;\n",
       "    }\n",
       "</style>\n",
       "<table border=\"1\" class=\"dataframe\">\n",
       "  <thead>\n",
       "    <tr style=\"text-align: right;\">\n",
       "      <th></th>\n",
       "      <th>OpenPorchSF</th>\n",
       "      <th>EnclosedPorch</th>\n",
       "      <th>3SsnPorch</th>\n",
       "      <th>ScreenPorch</th>\n",
       "      <th>TotalPorchArea</th>\n",
       "      <th>PoolArea</th>\n",
       "    </tr>\n",
       "  </thead>\n",
       "  <tbody>\n",
       "    <tr>\n",
       "      <th>0</th>\n",
       "      <td>0</td>\n",
       "      <td>0</td>\n",
       "      <td>0</td>\n",
       "      <td>120</td>\n",
       "      <td>120</td>\n",
       "      <td>0</td>\n",
       "    </tr>\n",
       "    <tr>\n",
       "      <th>1</th>\n",
       "      <td>36</td>\n",
       "      <td>0</td>\n",
       "      <td>0</td>\n",
       "      <td>0</td>\n",
       "      <td>36</td>\n",
       "      <td>0</td>\n",
       "    </tr>\n",
       "    <tr>\n",
       "      <th>2</th>\n",
       "      <td>34</td>\n",
       "      <td>0</td>\n",
       "      <td>0</td>\n",
       "      <td>0</td>\n",
       "      <td>34</td>\n",
       "      <td>0</td>\n",
       "    </tr>\n",
       "    <tr>\n",
       "      <th>3</th>\n",
       "      <td>36</td>\n",
       "      <td>0</td>\n",
       "      <td>0</td>\n",
       "      <td>0</td>\n",
       "      <td>36</td>\n",
       "      <td>0</td>\n",
       "    </tr>\n",
       "    <tr>\n",
       "      <th>4</th>\n",
       "      <td>82</td>\n",
       "      <td>0</td>\n",
       "      <td>0</td>\n",
       "      <td>144</td>\n",
       "      <td>226</td>\n",
       "      <td>0</td>\n",
       "    </tr>\n",
       "  </tbody>\n",
       "</table>\n",
       "</div>"
      ],
      "text/plain": [
       "   OpenPorchSF  EnclosedPorch  3SsnPorch  ScreenPorch  TotalPorchArea  \\\n",
       "0            0              0          0          120             120   \n",
       "1           36              0          0            0              36   \n",
       "2           34              0          0            0              34   \n",
       "3           36              0          0            0              36   \n",
       "4           82              0          0          144             226   \n",
       "\n",
       "   PoolArea  \n",
       "0         0  \n",
       "1         0  \n",
       "2         0  \n",
       "3         0  \n",
       "4         0  "
      ]
     },
     "execution_count": 325,
     "metadata": {},
     "output_type": "execute_result"
    }
   ],
   "source": [
    "house.iloc[0:5,72:78]"
   ]
  },
  {
   "cell_type": "code",
   "execution_count": 326,
   "id": "a3719710",
   "metadata": {},
   "outputs": [],
   "source": [
    "GoodFloorAreaSF=house[\"1stFlrSF\"]+house[\"2ndFlrSF\"]-house[\"LowQualFinSF\"]"
   ]
  },
  {
   "cell_type": "code",
   "execution_count": 327,
   "id": "746660e1",
   "metadata": {},
   "outputs": [],
   "source": [
    "house.insert(47,\"GoodFloorAreaSFabovegrade\",GoodFloorAreaSF)"
   ]
  },
  {
   "cell_type": "code",
   "execution_count": 328,
   "id": "89109613",
   "metadata": {},
   "outputs": [],
   "source": [
    "FinishedBsmtAreaSF=house[\"TotalBsmtSF\"]-house[\"BsmtUnfSF\"]"
   ]
  },
  {
   "cell_type": "code",
   "execution_count": 329,
   "id": "976f17d5",
   "metadata": {},
   "outputs": [],
   "source": [
    "house.insert(37,\"FinishedBsmtAreaSF\",FinishedBsmtAreaSF)"
   ]
  },
  {
   "cell_type": "code",
   "execution_count": 330,
   "id": "8dd2e888",
   "metadata": {},
   "outputs": [],
   "source": [
    "TotalFinishedAreaSF=house[\"FinishedBsmtAreaSF\"]+house[\"GrLivArea\"]"
   ]
  },
  {
   "cell_type": "code",
   "execution_count": 331,
   "id": "d69d9362",
   "metadata": {},
   "outputs": [],
   "source": [
    "house.insert(49,\"TotalFinishedAreaSF\",TotalFinishedAreaSF)"
   ]
  },
  {
   "cell_type": "code",
   "execution_count": 332,
   "id": "b9da80c4",
   "metadata": {},
   "outputs": [
    {
     "data": {
      "text/html": [
       "<div>\n",
       "<style scoped>\n",
       "    .dataframe tbody tr th:only-of-type {\n",
       "        vertical-align: middle;\n",
       "    }\n",
       "\n",
       "    .dataframe tbody tr th {\n",
       "        vertical-align: top;\n",
       "    }\n",
       "\n",
       "    .dataframe thead th {\n",
       "        text-align: right;\n",
       "    }\n",
       "</style>\n",
       "<table border=\"1\" class=\"dataframe\">\n",
       "  <thead>\n",
       "    <tr style=\"text-align: right;\">\n",
       "      <th></th>\n",
       "      <th>GrLivArea</th>\n",
       "      <th>GoodFloorAreaSFabovegrade</th>\n",
       "      <th>TotalFinishedAreaSF</th>\n",
       "      <th>BsmtFullBath</th>\n",
       "    </tr>\n",
       "  </thead>\n",
       "  <tbody>\n",
       "    <tr>\n",
       "      <th>0</th>\n",
       "      <td>896</td>\n",
       "      <td>896</td>\n",
       "      <td>1508.0</td>\n",
       "      <td>0.0</td>\n",
       "    </tr>\n",
       "    <tr>\n",
       "      <th>1</th>\n",
       "      <td>1329</td>\n",
       "      <td>1329</td>\n",
       "      <td>2252.0</td>\n",
       "      <td>0.0</td>\n",
       "    </tr>\n",
       "    <tr>\n",
       "      <th>2</th>\n",
       "      <td>1629</td>\n",
       "      <td>1629</td>\n",
       "      <td>2420.0</td>\n",
       "      <td>0.0</td>\n",
       "    </tr>\n",
       "    <tr>\n",
       "      <th>3</th>\n",
       "      <td>1604</td>\n",
       "      <td>1604</td>\n",
       "      <td>2206.0</td>\n",
       "      <td>0.0</td>\n",
       "    </tr>\n",
       "    <tr>\n",
       "      <th>4</th>\n",
       "      <td>1280</td>\n",
       "      <td>1280</td>\n",
       "      <td>1543.0</td>\n",
       "      <td>0.0</td>\n",
       "    </tr>\n",
       "  </tbody>\n",
       "</table>\n",
       "</div>"
      ],
      "text/plain": [
       "   GrLivArea  GoodFloorAreaSFabovegrade  TotalFinishedAreaSF  BsmtFullBath\n",
       "0        896                        896               1508.0           0.0\n",
       "1       1329                       1329               2252.0           0.0\n",
       "2       1629                       1629               2420.0           0.0\n",
       "3       1604                       1604               2206.0           0.0\n",
       "4       1280                       1280               1543.0           0.0"
      ]
     },
     "execution_count": 332,
     "metadata": {},
     "output_type": "execute_result"
    }
   ],
   "source": [
    "house.iloc[0:5,47:51]"
   ]
  },
  {
   "cell_type": "code",
   "execution_count": 333,
   "id": "89081797",
   "metadata": {},
   "outputs": [
    {
     "data": {
      "text/plain": [
       "(1459, 89)"
      ]
     },
     "execution_count": 333,
     "metadata": {},
     "output_type": "execute_result"
    }
   ],
   "source": [
    "house.shape"
   ]
  },
  {
   "cell_type": "code",
   "execution_count": 334,
   "id": "46e537c6",
   "metadata": {},
   "outputs": [],
   "source": [
    "agebyyrbuilt=house[\"YrSold\"]-house[\"YearBuilt\"]"
   ]
  },
  {
   "cell_type": "code",
   "execution_count": 335,
   "id": "939f38e5",
   "metadata": {},
   "outputs": [],
   "source": [
    "agebyyrremodel=house[\"YrSold\"]-house[\"YearRemodAdd\"]"
   ]
  },
  {
   "cell_type": "code",
   "execution_count": 336,
   "id": "4d69fcb8",
   "metadata": {},
   "outputs": [],
   "source": [
    "house.insert(89,\"agebyyrbuilt\",agebyyrbuilt)"
   ]
  },
  {
   "cell_type": "code",
   "execution_count": 337,
   "id": "2c91037d",
   "metadata": {},
   "outputs": [],
   "source": [
    "house.insert(90,\"agebyyrremodel\",agebyyrremodel)"
   ]
  },
  {
   "cell_type": "code",
   "execution_count": 338,
   "id": "e3de0dcd",
   "metadata": {},
   "outputs": [],
   "source": [
    "house.to_csv(\"futurecleaned_cp_2.csv\")"
   ]
  },
  {
   "cell_type": "code",
   "execution_count": 339,
   "id": "4bb40839",
   "metadata": {},
   "outputs": [],
   "source": [
    "house=house.drop(\"OverallCond\",axis=1)"
   ]
  },
  {
   "cell_type": "code",
   "execution_count": 162,
   "id": "87a94421",
   "metadata": {},
   "outputs": [],
   "source": [
    "#removing garage area for garage cars(0.64>0.62)\n",
    "#removing OverallCond for low correlation with Salesprice\n",
    "#removing BsmtFinSF2\n",
    "#removing LowQualFinSF\n",
    "#removing BsmtHalfBath\n",
    "#removing EnclosedPorch\n",
    "#removing 3SsnPorch\n",
    "#removing ScreenPorch\n",
    "house=house.drop(\"GarageArea\",axis=1)\n",
    "house=house.drop(\"BsmtFinSF2\",axis=1)\n",
    "house=house.drop(\"LowQualFinSF\",axis=1)\n",
    "house=house.drop(\"BsmtHalfBath\",axis=1)\n",
    "house=house.drop(\"EnclosedPorch\",axis=1)\n",
    "house=house.drop(\"3SsnPorch\",axis=1)\n",
    "house=house.drop(\"ScreenPorch\",axis=1)"
   ]
  },
  {
   "cell_type": "code",
   "execution_count": 163,
   "id": "a5679d0e",
   "metadata": {},
   "outputs": [
    {
     "data": {
      "text/plain": [
       "(1459, 83)"
      ]
     },
     "execution_count": 163,
     "metadata": {},
     "output_type": "execute_result"
    }
   ],
   "source": [
    "house.shape"
   ]
  },
  {
   "cell_type": "code",
   "execution_count": 164,
   "id": "eda10583",
   "metadata": {},
   "outputs": [],
   "source": [
    "house.to_excel(\"future_cleaned_2.xlsx\",sheet_name='cleaned_2')"
   ]
  },
  {
   "cell_type": "code",
   "execution_count": 166,
   "id": "993a9ce7",
   "metadata": {},
   "outputs": [],
   "source": [
    "house=house.drop(\"FinishedBsmtAreaSF\",axis=1)\n",
    "house=house.drop(\"GrLivArea\",axis=1)\n",
    "house=house.drop(\"FullBath\",axis=1)\n",
    "house=house.drop(\"HalfBath\",axis=1)\n",
    "house=house.drop(\"TotalBathBasement\",axis=1)\n",
    "house=house.drop(\"TotalRooms\",axis=1)"
   ]
  },
  {
   "cell_type": "code",
   "execution_count": 170,
   "id": "219348d0",
   "metadata": {},
   "outputs": [],
   "source": [
    "house=pd.read_excel('future_cleaned_2.xlsx')"
   ]
  },
  {
   "cell_type": "code",
   "execution_count": 171,
   "id": "eb66cd3b",
   "metadata": {},
   "outputs": [
    {
     "data": {
      "text/plain": [
       "(1459, 84)"
      ]
     },
     "execution_count": 171,
     "metadata": {},
     "output_type": "execute_result"
    }
   ],
   "source": [
    "house.shape"
   ]
  },
  {
   "cell_type": "code",
   "execution_count": 172,
   "id": "61711271",
   "metadata": {},
   "outputs": [],
   "source": [
    "totalarea=house[\"GrLivArea\"]+house[\"TotalBsmtSF\"]"
   ]
  },
  {
   "cell_type": "code",
   "execution_count": 173,
   "id": "dddc428b",
   "metadata": {},
   "outputs": [],
   "source": [
    "house.insert(83,\"TotalGrBsmtSF\",totalarea)"
   ]
  },
  {
   "cell_type": "code",
   "execution_count": 174,
   "id": "7c29bdf6",
   "metadata": {},
   "outputs": [],
   "source": [
    "house=house.drop(\"TotalGrBsmtSF\",axis=1)"
   ]
  },
  {
   "cell_type": "code",
   "execution_count": 175,
   "id": "d161d7a2",
   "metadata": {},
   "outputs": [],
   "source": [
    "house.insert(84,\"TotalGrBsmtSF\",totalarea)"
   ]
  },
  {
   "cell_type": "code",
   "execution_count": 176,
   "id": "40108731",
   "metadata": {},
   "outputs": [
    {
     "data": {
      "text/html": [
       "<div>\n",
       "<style scoped>\n",
       "    .dataframe tbody tr th:only-of-type {\n",
       "        vertical-align: middle;\n",
       "    }\n",
       "\n",
       "    .dataframe tbody tr th {\n",
       "        vertical-align: top;\n",
       "    }\n",
       "\n",
       "    .dataframe thead th {\n",
       "        text-align: right;\n",
       "    }\n",
       "</style>\n",
       "<table border=\"1\" class=\"dataframe\">\n",
       "  <thead>\n",
       "    <tr style=\"text-align: right;\">\n",
       "      <th></th>\n",
       "      <th>agebyyrbuilt</th>\n",
       "      <th>agebyyrremodel</th>\n",
       "      <th>TotalGrBsmtSF</th>\n",
       "    </tr>\n",
       "  </thead>\n",
       "  <tbody>\n",
       "    <tr>\n",
       "      <th>0</th>\n",
       "      <td>49</td>\n",
       "      <td>49</td>\n",
       "      <td>1778</td>\n",
       "    </tr>\n",
       "    <tr>\n",
       "      <th>1</th>\n",
       "      <td>52</td>\n",
       "      <td>52</td>\n",
       "      <td>2658</td>\n",
       "    </tr>\n",
       "    <tr>\n",
       "      <th>2</th>\n",
       "      <td>13</td>\n",
       "      <td>12</td>\n",
       "      <td>2557</td>\n",
       "    </tr>\n",
       "    <tr>\n",
       "      <th>3</th>\n",
       "      <td>12</td>\n",
       "      <td>12</td>\n",
       "      <td>2530</td>\n",
       "    </tr>\n",
       "    <tr>\n",
       "      <th>4</th>\n",
       "      <td>18</td>\n",
       "      <td>18</td>\n",
       "      <td>2560</td>\n",
       "    </tr>\n",
       "  </tbody>\n",
       "</table>\n",
       "</div>"
      ],
      "text/plain": [
       "   agebyyrbuilt  agebyyrremodel  TotalGrBsmtSF\n",
       "0            49              49           1778\n",
       "1            52              52           2658\n",
       "2            13              12           2557\n",
       "3            12              12           2530\n",
       "4            18              18           2560"
      ]
     },
     "execution_count": 176,
     "metadata": {},
     "output_type": "execute_result"
    }
   ],
   "source": [
    "house.iloc[0:5,82:85]"
   ]
  },
  {
   "cell_type": "code",
   "execution_count": 177,
   "id": "12c843f4",
   "metadata": {},
   "outputs": [],
   "source": [
    "otherarea=house[\"TotalGrBsmtSF\"]+house[\"MasVnrArea\"]"
   ]
  },
  {
   "cell_type": "code",
   "execution_count": 179,
   "id": "ad3dea1e",
   "metadata": {},
   "outputs": [],
   "source": [
    "house.insert(85,\"OA1\",otherarea)"
   ]
  },
  {
   "cell_type": "code",
   "execution_count": 181,
   "id": "3f68e57f",
   "metadata": {},
   "outputs": [
    {
     "data": {
      "text/html": [
       "<div>\n",
       "<style scoped>\n",
       "    .dataframe tbody tr th:only-of-type {\n",
       "        vertical-align: middle;\n",
       "    }\n",
       "\n",
       "    .dataframe tbody tr th {\n",
       "        vertical-align: top;\n",
       "    }\n",
       "\n",
       "    .dataframe thead th {\n",
       "        text-align: right;\n",
       "    }\n",
       "</style>\n",
       "<table border=\"1\" class=\"dataframe\">\n",
       "  <thead>\n",
       "    <tr style=\"text-align: right;\">\n",
       "      <th></th>\n",
       "      <th>agebyyrbuilt</th>\n",
       "      <th>agebyyrremodel</th>\n",
       "      <th>TotalGrBsmtSF</th>\n",
       "      <th>OA1</th>\n",
       "    </tr>\n",
       "  </thead>\n",
       "  <tbody>\n",
       "    <tr>\n",
       "      <th>0</th>\n",
       "      <td>49</td>\n",
       "      <td>49</td>\n",
       "      <td>1778</td>\n",
       "      <td>1778</td>\n",
       "    </tr>\n",
       "    <tr>\n",
       "      <th>1</th>\n",
       "      <td>52</td>\n",
       "      <td>52</td>\n",
       "      <td>2658</td>\n",
       "      <td>2766</td>\n",
       "    </tr>\n",
       "    <tr>\n",
       "      <th>2</th>\n",
       "      <td>13</td>\n",
       "      <td>12</td>\n",
       "      <td>2557</td>\n",
       "      <td>2557</td>\n",
       "    </tr>\n",
       "    <tr>\n",
       "      <th>3</th>\n",
       "      <td>12</td>\n",
       "      <td>12</td>\n",
       "      <td>2530</td>\n",
       "      <td>2550</td>\n",
       "    </tr>\n",
       "    <tr>\n",
       "      <th>4</th>\n",
       "      <td>18</td>\n",
       "      <td>18</td>\n",
       "      <td>2560</td>\n",
       "      <td>2560</td>\n",
       "    </tr>\n",
       "  </tbody>\n",
       "</table>\n",
       "</div>"
      ],
      "text/plain": [
       "   agebyyrbuilt  agebyyrremodel  TotalGrBsmtSF   OA1\n",
       "0            49              49           1778  1778\n",
       "1            52              52           2658  2766\n",
       "2            13              12           2557  2557\n",
       "3            12              12           2530  2550\n",
       "4            18              18           2560  2560"
      ]
     },
     "execution_count": 181,
     "metadata": {},
     "output_type": "execute_result"
    }
   ],
   "source": [
    "house.iloc[0:5,82:86]"
   ]
  },
  {
   "cell_type": "code",
   "execution_count": 340,
   "id": "5d49f370",
   "metadata": {},
   "outputs": [
    {
     "data": {
      "text/plain": [
       "(1459, 90)"
      ]
     },
     "execution_count": 340,
     "metadata": {},
     "output_type": "execute_result"
    }
   ],
   "source": [
    "house.shape"
   ]
  },
  {
   "cell_type": "code",
   "execution_count": 341,
   "id": "fd979692",
   "metadata": {},
   "outputs": [],
   "source": [
    "house.to_csv(\"futurecleaned_cp2.csv\")"
   ]
  },
  {
   "cell_type": "code",
   "execution_count": 343,
   "id": "6136d75f",
   "metadata": {},
   "outputs": [
    {
     "data": {
      "text/html": [
       "<div>\n",
       "<style scoped>\n",
       "    .dataframe tbody tr th:only-of-type {\n",
       "        vertical-align: middle;\n",
       "    }\n",
       "\n",
       "    .dataframe tbody tr th {\n",
       "        vertical-align: top;\n",
       "    }\n",
       "\n",
       "    .dataframe thead th {\n",
       "        text-align: right;\n",
       "    }\n",
       "</style>\n",
       "<table border=\"1\" class=\"dataframe\">\n",
       "  <thead>\n",
       "    <tr style=\"text-align: right;\">\n",
       "      <th></th>\n",
       "      <th>YrSold</th>\n",
       "      <th>SaleType</th>\n",
       "      <th>SaleCondition</th>\n",
       "      <th>agebyyrbuilt</th>\n",
       "      <th>agebyyrremodel</th>\n",
       "    </tr>\n",
       "  </thead>\n",
       "  <tbody>\n",
       "    <tr>\n",
       "      <th>0</th>\n",
       "      <td>2010</td>\n",
       "      <td>WD</td>\n",
       "      <td>Normal</td>\n",
       "      <td>49</td>\n",
       "      <td>49</td>\n",
       "    </tr>\n",
       "    <tr>\n",
       "      <th>1</th>\n",
       "      <td>2010</td>\n",
       "      <td>WD</td>\n",
       "      <td>Normal</td>\n",
       "      <td>52</td>\n",
       "      <td>52</td>\n",
       "    </tr>\n",
       "    <tr>\n",
       "      <th>2</th>\n",
       "      <td>2010</td>\n",
       "      <td>WD</td>\n",
       "      <td>Normal</td>\n",
       "      <td>13</td>\n",
       "      <td>12</td>\n",
       "    </tr>\n",
       "    <tr>\n",
       "      <th>3</th>\n",
       "      <td>2010</td>\n",
       "      <td>WD</td>\n",
       "      <td>Normal</td>\n",
       "      <td>12</td>\n",
       "      <td>12</td>\n",
       "    </tr>\n",
       "    <tr>\n",
       "      <th>4</th>\n",
       "      <td>2010</td>\n",
       "      <td>WD</td>\n",
       "      <td>Normal</td>\n",
       "      <td>18</td>\n",
       "      <td>18</td>\n",
       "    </tr>\n",
       "  </tbody>\n",
       "</table>\n",
       "</div>"
      ],
      "text/plain": [
       "   YrSold SaleType SaleCondition  agebyyrbuilt  agebyyrremodel\n",
       "0    2010       WD        Normal            49              49\n",
       "1    2010       WD        Normal            52              52\n",
       "2    2010       WD        Normal            13              12\n",
       "3    2010       WD        Normal            12              12\n",
       "4    2010       WD        Normal            18              18"
      ]
     },
     "execution_count": 343,
     "metadata": {},
     "output_type": "execute_result"
    }
   ],
   "source": [
    "house.iloc[0:5,85:91]"
   ]
  },
  {
   "cell_type": "code",
   "execution_count": 344,
   "id": "5bc3efd8",
   "metadata": {},
   "outputs": [],
   "source": [
    "totalarea=house[\"GrLivArea\"]+house[\"TotalBsmtSF\"]"
   ]
  },
  {
   "cell_type": "code",
   "execution_count": 345,
   "id": "bee989a4",
   "metadata": {},
   "outputs": [],
   "source": [
    "house.insert(90,\"TotalGrBsmtSF\",totalarea)"
   ]
  },
  {
   "cell_type": "code",
   "execution_count": 346,
   "id": "7ef458f3",
   "metadata": {},
   "outputs": [],
   "source": [
    "otherarea=house[\"TotalGrBsmtSF\"]+house[\"MasVnrArea\"]"
   ]
  },
  {
   "cell_type": "code",
   "execution_count": 347,
   "id": "64136f2c",
   "metadata": {},
   "outputs": [],
   "source": [
    "house.insert(91,\"OA1\",otherarea)"
   ]
  },
  {
   "cell_type": "code",
   "execution_count": 348,
   "id": "ee215995",
   "metadata": {},
   "outputs": [],
   "source": [
    "otherarea2=house[\"OA1\"]+house[\"GarageArea\"]"
   ]
  },
  {
   "cell_type": "code",
   "execution_count": 349,
   "id": "f1d271a9",
   "metadata": {},
   "outputs": [],
   "source": [
    "house.insert(92,\"OA2\",otherarea2)"
   ]
  },
  {
   "cell_type": "code",
   "execution_count": 350,
   "id": "4acd7fc7",
   "metadata": {},
   "outputs": [
    {
     "data": {
      "text/html": [
       "<div>\n",
       "<style scoped>\n",
       "    .dataframe tbody tr th:only-of-type {\n",
       "        vertical-align: middle;\n",
       "    }\n",
       "\n",
       "    .dataframe tbody tr th {\n",
       "        vertical-align: top;\n",
       "    }\n",
       "\n",
       "    .dataframe thead th {\n",
       "        text-align: right;\n",
       "    }\n",
       "</style>\n",
       "<table border=\"1\" class=\"dataframe\">\n",
       "  <thead>\n",
       "    <tr style=\"text-align: right;\">\n",
       "      <th></th>\n",
       "      <th>YrSold</th>\n",
       "      <th>SaleType</th>\n",
       "      <th>SaleCondition</th>\n",
       "      <th>agebyyrbuilt</th>\n",
       "      <th>agebyyrremodel</th>\n",
       "      <th>TotalGrBsmtSF</th>\n",
       "      <th>OA1</th>\n",
       "      <th>OA2</th>\n",
       "    </tr>\n",
       "  </thead>\n",
       "  <tbody>\n",
       "    <tr>\n",
       "      <th>0</th>\n",
       "      <td>2010</td>\n",
       "      <td>WD</td>\n",
       "      <td>Normal</td>\n",
       "      <td>49</td>\n",
       "      <td>49</td>\n",
       "      <td>1778.0</td>\n",
       "      <td>1778.0</td>\n",
       "      <td>2508.0</td>\n",
       "    </tr>\n",
       "    <tr>\n",
       "      <th>1</th>\n",
       "      <td>2010</td>\n",
       "      <td>WD</td>\n",
       "      <td>Normal</td>\n",
       "      <td>52</td>\n",
       "      <td>52</td>\n",
       "      <td>2658.0</td>\n",
       "      <td>2766.0</td>\n",
       "      <td>3078.0</td>\n",
       "    </tr>\n",
       "    <tr>\n",
       "      <th>2</th>\n",
       "      <td>2010</td>\n",
       "      <td>WD</td>\n",
       "      <td>Normal</td>\n",
       "      <td>13</td>\n",
       "      <td>12</td>\n",
       "      <td>2557.0</td>\n",
       "      <td>2557.0</td>\n",
       "      <td>3039.0</td>\n",
       "    </tr>\n",
       "    <tr>\n",
       "      <th>3</th>\n",
       "      <td>2010</td>\n",
       "      <td>WD</td>\n",
       "      <td>Normal</td>\n",
       "      <td>12</td>\n",
       "      <td>12</td>\n",
       "      <td>2530.0</td>\n",
       "      <td>2550.0</td>\n",
       "      <td>3020.0</td>\n",
       "    </tr>\n",
       "    <tr>\n",
       "      <th>4</th>\n",
       "      <td>2010</td>\n",
       "      <td>WD</td>\n",
       "      <td>Normal</td>\n",
       "      <td>18</td>\n",
       "      <td>18</td>\n",
       "      <td>2560.0</td>\n",
       "      <td>2560.0</td>\n",
       "      <td>3066.0</td>\n",
       "    </tr>\n",
       "  </tbody>\n",
       "</table>\n",
       "</div>"
      ],
      "text/plain": [
       "   YrSold SaleType SaleCondition  agebyyrbuilt  agebyyrremodel  TotalGrBsmtSF  \\\n",
       "0    2010       WD        Normal            49              49         1778.0   \n",
       "1    2010       WD        Normal            52              52         2658.0   \n",
       "2    2010       WD        Normal            13              12         2557.0   \n",
       "3    2010       WD        Normal            12              12         2530.0   \n",
       "4    2010       WD        Normal            18              18         2560.0   \n",
       "\n",
       "      OA1     OA2  \n",
       "0  1778.0  2508.0  \n",
       "1  2766.0  3078.0  \n",
       "2  2557.0  3039.0  \n",
       "3  2550.0  3020.0  \n",
       "4  2560.0  3066.0  "
      ]
     },
     "execution_count": 350,
     "metadata": {},
     "output_type": "execute_result"
    }
   ],
   "source": [
    "house.iloc[0:5,85:93]"
   ]
  },
  {
   "cell_type": "code",
   "execution_count": 351,
   "id": "7c68b9ff",
   "metadata": {},
   "outputs": [],
   "source": [
    "house=house.drop(\"TotalGrBsmtSF\",axis=1)"
   ]
  },
  {
   "cell_type": "code",
   "execution_count": 352,
   "id": "447a2bce",
   "metadata": {},
   "outputs": [],
   "source": [
    "house.insert(92,\"TotalGrBsmtSF\",totalarea)"
   ]
  },
  {
   "cell_type": "code",
   "execution_count": 353,
   "id": "9414eea9",
   "metadata": {},
   "outputs": [
    {
     "data": {
      "text/html": [
       "<div>\n",
       "<style scoped>\n",
       "    .dataframe tbody tr th:only-of-type {\n",
       "        vertical-align: middle;\n",
       "    }\n",
       "\n",
       "    .dataframe tbody tr th {\n",
       "        vertical-align: top;\n",
       "    }\n",
       "\n",
       "    .dataframe thead th {\n",
       "        text-align: right;\n",
       "    }\n",
       "</style>\n",
       "<table border=\"1\" class=\"dataframe\">\n",
       "  <thead>\n",
       "    <tr style=\"text-align: right;\">\n",
       "      <th></th>\n",
       "      <th>YrSold</th>\n",
       "      <th>SaleType</th>\n",
       "      <th>SaleCondition</th>\n",
       "      <th>agebyyrbuilt</th>\n",
       "      <th>agebyyrremodel</th>\n",
       "      <th>OA1</th>\n",
       "      <th>OA2</th>\n",
       "      <th>TotalGrBsmtSF</th>\n",
       "    </tr>\n",
       "  </thead>\n",
       "  <tbody>\n",
       "    <tr>\n",
       "      <th>0</th>\n",
       "      <td>2010</td>\n",
       "      <td>WD</td>\n",
       "      <td>Normal</td>\n",
       "      <td>49</td>\n",
       "      <td>49</td>\n",
       "      <td>1778.0</td>\n",
       "      <td>2508.0</td>\n",
       "      <td>1778.0</td>\n",
       "    </tr>\n",
       "    <tr>\n",
       "      <th>1</th>\n",
       "      <td>2010</td>\n",
       "      <td>WD</td>\n",
       "      <td>Normal</td>\n",
       "      <td>52</td>\n",
       "      <td>52</td>\n",
       "      <td>2766.0</td>\n",
       "      <td>3078.0</td>\n",
       "      <td>2658.0</td>\n",
       "    </tr>\n",
       "    <tr>\n",
       "      <th>2</th>\n",
       "      <td>2010</td>\n",
       "      <td>WD</td>\n",
       "      <td>Normal</td>\n",
       "      <td>13</td>\n",
       "      <td>12</td>\n",
       "      <td>2557.0</td>\n",
       "      <td>3039.0</td>\n",
       "      <td>2557.0</td>\n",
       "    </tr>\n",
       "    <tr>\n",
       "      <th>3</th>\n",
       "      <td>2010</td>\n",
       "      <td>WD</td>\n",
       "      <td>Normal</td>\n",
       "      <td>12</td>\n",
       "      <td>12</td>\n",
       "      <td>2550.0</td>\n",
       "      <td>3020.0</td>\n",
       "      <td>2530.0</td>\n",
       "    </tr>\n",
       "    <tr>\n",
       "      <th>4</th>\n",
       "      <td>2010</td>\n",
       "      <td>WD</td>\n",
       "      <td>Normal</td>\n",
       "      <td>18</td>\n",
       "      <td>18</td>\n",
       "      <td>2560.0</td>\n",
       "      <td>3066.0</td>\n",
       "      <td>2560.0</td>\n",
       "    </tr>\n",
       "  </tbody>\n",
       "</table>\n",
       "</div>"
      ],
      "text/plain": [
       "   YrSold SaleType SaleCondition  agebyyrbuilt  agebyyrremodel     OA1  \\\n",
       "0    2010       WD        Normal            49              49  1778.0   \n",
       "1    2010       WD        Normal            52              52  2766.0   \n",
       "2    2010       WD        Normal            13              12  2557.0   \n",
       "3    2010       WD        Normal            12              12  2550.0   \n",
       "4    2010       WD        Normal            18              18  2560.0   \n",
       "\n",
       "      OA2  TotalGrBsmtSF  \n",
       "0  2508.0         1778.0  \n",
       "1  3078.0         2658.0  \n",
       "2  3039.0         2557.0  \n",
       "3  3020.0         2530.0  \n",
       "4  3066.0         2560.0  "
      ]
     },
     "execution_count": 353,
     "metadata": {},
     "output_type": "execute_result"
    }
   ],
   "source": [
    "house.iloc[0:5,85:93]"
   ]
  },
  {
   "cell_type": "code",
   "execution_count": 354,
   "id": "e8a5c2ec",
   "metadata": {},
   "outputs": [],
   "source": [
    "house.to_csv(\"futurecleanedcp3.csv\")"
   ]
  },
  {
   "cell_type": "code",
   "execution_count": 356,
   "id": "53d6aaa4",
   "metadata": {},
   "outputs": [],
   "source": [
    "house=house.drop(\"GarageArea\",axis=1)\n",
    "house=house.drop(\"BsmtFinSF2\",axis=1)\n",
    "house=house.drop(\"LowQualFinSF\",axis=1)\n",
    "house=house.drop(\"BsmtHalfBath\",axis=1)\n",
    "house=house.drop(\"EnclosedPorch\",axis=1)\n",
    "house=house.drop(\"3SsnPorch\",axis=1)\n",
    "house=house.drop(\"ScreenPorch\",axis=1)"
   ]
  },
  {
   "cell_type": "code",
   "execution_count": 358,
   "id": "97b2328e",
   "metadata": {},
   "outputs": [],
   "source": [
    "house=house.drop(\"FinishedBsmtAreaSF\",axis=1)\n",
    "house=house.drop(\"GrLivArea\",axis=1)\n",
    "house=house.drop(\"FullBath\",axis=1)\n",
    "house=house.drop(\"HalfBath\",axis=1)\n",
    "house=house.drop(\"TotalBathBasement\",axis=1)\n",
    "house=house.drop(\"TotalRooms\",axis=1)"
   ]
  },
  {
   "cell_type": "code",
   "execution_count": 359,
   "id": "3b56319b",
   "metadata": {},
   "outputs": [
    {
     "data": {
      "text/plain": [
       "(1459, 80)"
      ]
     },
     "execution_count": 359,
     "metadata": {},
     "output_type": "execute_result"
    }
   ],
   "source": [
    "house.shape"
   ]
  },
  {
   "cell_type": "code",
   "execution_count": 360,
   "id": "5dcc650e",
   "metadata": {},
   "outputs": [],
   "source": [
    "house=house.drop(\"OA1\",axis=1)"
   ]
  },
  {
   "cell_type": "code",
   "execution_count": 361,
   "id": "88ae9034",
   "metadata": {},
   "outputs": [
    {
     "data": {
      "text/plain": [
       "(1459, 79)"
      ]
     },
     "execution_count": 361,
     "metadata": {},
     "output_type": "execute_result"
    }
   ],
   "source": [
    "house.shape"
   ]
  },
  {
   "cell_type": "code",
   "execution_count": 362,
   "id": "8bc07c92",
   "metadata": {},
   "outputs": [],
   "source": [
    "house.to_csv(\"futurecleaned.csv\")"
   ]
  },
  {
   "cell_type": "code",
   "execution_count": null,
   "id": "607d4361",
   "metadata": {},
   "outputs": [],
   "source": []
  }
 ],
 "metadata": {
  "kernelspec": {
   "display_name": "Python 3 (ipykernel)",
   "language": "python",
   "name": "python3"
  },
  "language_info": {
   "codemirror_mode": {
    "name": "ipython",
    "version": 3
   },
   "file_extension": ".py",
   "mimetype": "text/x-python",
   "name": "python",
   "nbconvert_exporter": "python",
   "pygments_lexer": "ipython3",
   "version": "3.9.13"
  }
 },
 "nbformat": 4,
 "nbformat_minor": 5
}
